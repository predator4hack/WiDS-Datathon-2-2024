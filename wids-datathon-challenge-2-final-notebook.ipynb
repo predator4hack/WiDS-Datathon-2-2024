{
 "cells": [
  {
   "cell_type": "markdown",
   "id": "367ae466",
   "metadata": {
    "papermill": {
     "duration": 0.016409,
     "end_time": "2024-06-12T11:56:33.974576",
     "exception": false,
     "start_time": "2024-06-12T11:56:33.958167",
     "status": "completed"
    },
    "tags": []
   },
   "source": [
    "## Initial Setup"
   ]
  },
  {
   "cell_type": "code",
   "execution_count": 1,
   "id": "26400077",
   "metadata": {
    "_cell_guid": "b1076dfc-b9ad-4769-8c92-a6c4dae69d19",
    "_uuid": "8f2839f25d086af736a60e9eeb907d3b93b6e0e5",
    "execution": {
     "iopub.execute_input": "2024-06-12T11:56:34.006470Z",
     "iopub.status.busy": "2024-06-12T11:56:34.005990Z",
     "iopub.status.idle": "2024-06-12T11:56:34.019394Z",
     "shell.execute_reply": "2024-06-12T11:56:34.018131Z"
    },
    "papermill": {
     "duration": 0.032883,
     "end_time": "2024-06-12T11:56:34.022098",
     "exception": false,
     "start_time": "2024-06-12T11:56:33.989215",
     "status": "completed"
    },
    "tags": []
   },
   "outputs": [],
   "source": [
    "import warnings\n",
    "warnings.filterwarnings(\"ignore\")\n",
    "\n",
    "import os\n",
    "\n",
    "os.environ['KAGGLE_USERNAME'] = '*************'\n",
    "os.environ['KAGGLE_KEY'] = '************************'"
   ]
  },
  {
   "cell_type": "code",
   "execution_count": 2,
   "id": "f505e78c",
   "metadata": {
    "execution": {
     "iopub.execute_input": "2024-06-12T11:56:34.053389Z",
     "iopub.status.busy": "2024-06-12T11:56:34.052919Z",
     "iopub.status.idle": "2024-06-12T11:56:56.632432Z",
     "shell.execute_reply": "2024-06-12T11:56:56.631158Z"
    },
    "papermill": {
     "duration": 22.59881,
     "end_time": "2024-06-12T11:56:56.635559",
     "exception": false,
     "start_time": "2024-06-12T11:56:34.036749",
     "status": "completed"
    },
    "tags": []
   },
   "outputs": [
    {
     "name": "stderr",
     "output_type": "stream",
     "text": [
      "2024-06-12 11:56:39.434472: E external/local_xla/xla/stream_executor/cuda/cuda_dnn.cc:9261] Unable to register cuDNN factory: Attempting to register factory for plugin cuDNN when one has already been registered\n",
      "2024-06-12 11:56:39.434640: E external/local_xla/xla/stream_executor/cuda/cuda_fft.cc:607] Unable to register cuFFT factory: Attempting to register factory for plugin cuFFT when one has already been registered\n",
      "2024-06-12 11:56:39.613958: E external/local_xla/xla/stream_executor/cuda/cuda_blas.cc:1515] Unable to register cuBLAS factory: Attempting to register factory for plugin cuBLAS when one has already been registered\n"
     ]
    }
   ],
   "source": [
    "import pandas as pd\n",
    "import numpy as np\n",
    "import math\n",
    "import matplotlib.pyplot as plt\n",
    "import seaborn as sns\n",
    "import re\n",
    "import optuna\n",
    "import tensorflow as tf\n",
    "\n",
    "from functools import partial\n",
    "from hyperopt import hp, fmin, tpe, Trials\n",
    "from hyperopt.pyll.base import scope\n",
    "\n",
    "from category_encoders import OneHotEncoder, MEstimateEncoder, CatBoostEncoder\n",
    "from catboost import CatBoostRegressor\n",
    "\n",
    "from sklearn import set_config\n",
    "from sklearn import metrics, preprocessing, model_selection, ensemble\n",
    "from sklearn.pipeline import make_pipeline\n",
    "from sklearn.preprocessing import RobustScaler\n",
    "from sklearn.model_selection import KFold, StratifiedKFold, RepeatedStratifiedKFold\n",
    "from lightgbm import LGBMRegressor\n",
    "from sklearn.svm import SVR\n",
    "from mlxtend.regressor import StackingRegressor\n",
    "from sklearn.ensemble import GradientBoostingRegressor, RandomForestRegressor, ExtraTreesRegressor, AdaBoostRegressor, HistGradientBoostingRegressor\n",
    "from sklearn.metrics import roc_auc_score, roc_curve, make_scorer, f1_score, accuracy_score, mean_squared_error\n",
    "from xgboost import XGBRegressor as XGBRegressor\n",
    "from xgboost import XGBClassifier, XGBRFClassifier\n",
    "from sklearn.inspection import permutation_importance\n",
    "from sklearn.impute import SimpleImputer, KNNImputer\n",
    "from sklearn.base import BaseEstimator, TransformerMixin, clone, ClassifierMixin\n",
    "from sklearn.linear_model import Ridge, RidgeCV, LinearRegression, BayesianRidge\n",
    "from sklearn.pipeline import Pipeline, make_pipeline\n",
    "from sklearn.feature_extraction.text import TfidfVectorizer\n",
    "from sklearn.preprocessing import FunctionTransformer, StandardScaler, PowerTransformer, MinMaxScaler\n",
    "from sklearn.svm import LinearSVC, SVR\n",
    "from sklearn.neighbors import KNeighborsRegressor\n",
    "from scipy.cluster.hierarchy import dendrogram, linkage\n",
    "from scipy.spatial.distance import squareform\n",
    "\n",
    "%matplotlib inline\n",
    "pd.set_option('display.max_columns', 200)\n",
    "pd.set_option('display.max_rows', 200)\n",
    "set_config(transform_output = 'pandas')\n",
    "pd.options.mode.chained_assignment = None\n",
    "optuna.logging.set_verbosity(optuna.logging.WARNING)"
   ]
  },
  {
   "cell_type": "code",
   "execution_count": 3,
   "id": "411bf18e",
   "metadata": {
    "execution": {
     "iopub.execute_input": "2024-06-12T11:56:56.669259Z",
     "iopub.status.busy": "2024-06-12T11:56:56.668262Z",
     "iopub.status.idle": "2024-06-12T11:56:57.455192Z",
     "shell.execute_reply": "2024-06-12T11:56:57.454012Z"
    },
    "papermill": {
     "duration": 0.807837,
     "end_time": "2024-06-12T11:56:57.458565",
     "exception": false,
     "start_time": "2024-06-12T11:56:56.650728",
     "status": "completed"
    },
    "tags": []
   },
   "outputs": [],
   "source": [
    "train = pd.read_csv('/kaggle/input/widsdatathon2024-challenge2/train.csv')\n",
    "test = pd.read_csv('/kaggle/input/widsdatathon2024-challenge2/test.csv')\n",
    "train.drop(columns=['patient_id'],inplace=True)\n",
    "test.drop(columns=['patient_id'],inplace=True)\n",
    "train.rename(columns={'metastatic_diagnosis_period':'target'}, inplace=True)\n",
    "test.rename(columns={'metastatic_diagnosis_period':'target'}, inplace=True)"
   ]
  },
  {
   "cell_type": "code",
   "execution_count": 4,
   "id": "e1bf60ef",
   "metadata": {
    "execution": {
     "iopub.execute_input": "2024-06-12T11:56:57.491664Z",
     "iopub.status.busy": "2024-06-12T11:56:57.491106Z",
     "iopub.status.idle": "2024-06-12T11:56:57.559413Z",
     "shell.execute_reply": "2024-06-12T11:56:57.558025Z"
    },
    "papermill": {
     "duration": 0.088124,
     "end_time": "2024-06-12T11:56:57.562645",
     "exception": false,
     "start_time": "2024-06-12T11:56:57.474521",
     "status": "completed"
    },
    "tags": []
   },
   "outputs": [],
   "source": [
    "X = train.drop('patient_gender', axis = 1)\n",
    "y = X.pop('target')\n",
    "\n",
    "def rmse(y_true, y_pred):\n",
    "    return np.sqrt(mean_squared_error(y_true, y_pred))\n",
    "\n",
    "rmse_scorer = make_scorer(rmse)\n",
    "\n",
    "seed = 42\n",
    "splits = 5\n",
    "kf = StratifiedKFold(n_splits = splits, random_state = seed, shuffle = True)\n",
    "tf.keras.utils.set_random_seed(seed)"
   ]
  },
  {
   "cell_type": "code",
   "execution_count": 5,
   "id": "f675369a",
   "metadata": {
    "execution": {
     "iopub.execute_input": "2024-06-12T11:56:57.596017Z",
     "iopub.status.busy": "2024-06-12T11:56:57.595429Z",
     "iopub.status.idle": "2024-06-12T11:56:57.602827Z",
     "shell.execute_reply": "2024-06-12T11:56:57.601560Z"
    },
    "papermill": {
     "duration": 0.027097,
     "end_time": "2024-06-12T11:56:57.605692",
     "exception": false,
     "start_time": "2024-06-12T11:56:57.578595",
     "status": "completed"
    },
    "tags": []
   },
   "outputs": [],
   "source": [
    "class FeatureDropper(BaseEstimator, TransformerMixin):\n",
    "    \n",
    "    def __init__(self, cols):\n",
    "        self.cols = cols\n",
    "        \n",
    "    def fit(self, x, y):\n",
    "        return self\n",
    "    \n",
    "    def transform(self, x):\n",
    "        return x.drop(self.cols, axis = 1)"
   ]
  },
  {
   "cell_type": "code",
   "execution_count": 6,
   "id": "87d0b40d",
   "metadata": {
    "execution": {
     "iopub.execute_input": "2024-06-12T11:56:57.637877Z",
     "iopub.status.busy": "2024-06-12T11:56:57.636679Z",
     "iopub.status.idle": "2024-06-12T11:56:57.643556Z",
     "shell.execute_reply": "2024-06-12T11:56:57.642320Z"
    },
    "papermill": {
     "duration": 0.025596,
     "end_time": "2024-06-12T11:56:57.645841",
     "exception": false,
     "start_time": "2024-06-12T11:56:57.620245",
     "status": "completed"
    },
    "tags": []
   },
   "outputs": [],
   "source": [
    "class FeatureSelector(BaseEstimator, TransformerMixin):\n",
    "    \n",
    "    def __init__(self, cols):\n",
    "        self.cols = cols\n",
    "        \n",
    "    def fit(self, x, y):\n",
    "        return self\n",
    "    \n",
    "    def transform(self, x):\n",
    "        return x[self.cols]"
   ]
  },
  {
   "cell_type": "code",
   "execution_count": 7,
   "id": "8e5d8337",
   "metadata": {
    "execution": {
     "iopub.execute_input": "2024-06-12T11:56:57.678368Z",
     "iopub.status.busy": "2024-06-12T11:56:57.677014Z",
     "iopub.status.idle": "2024-06-12T11:56:57.689955Z",
     "shell.execute_reply": "2024-06-12T11:56:57.688344Z"
    },
    "papermill": {
     "duration": 0.032919,
     "end_time": "2024-06-12T11:56:57.693301",
     "exception": false,
     "start_time": "2024-06-12T11:56:57.660382",
     "status": "completed"
    },
    "tags": []
   },
   "outputs": [],
   "source": [
    "class CustomImputer(BaseEstimator, TransformerMixin):\n",
    "    \n",
    "    def __init__(self):\n",
    "        pass\n",
    "    \n",
    "    def fit(self, X, y=None):\n",
    "        self.modes = X.select_dtypes(include=['object', 'category']).mode().iloc[0]\n",
    "        self.medians = X.select_dtypes(include=[np.number]).median()\n",
    "        return self\n",
    "    \n",
    "    def transform(self, x):\n",
    "        x_copy = x.copy()\n",
    "        # Median/Mode Imputation\n",
    "#         for col in self.modes.index:\n",
    "#             X_copy[col].fillna(self.modes[col], inplace=True)\n",
    "        \n",
    "#         for col in self.medians.index:\n",
    "#             X_copy[col].fillna(self.medians[col], inplace=True)\n",
    "\n",
    "        # Impute BMI, Patient Race, Payer Type\n",
    "        age_bins = [0, 22, 45, 65, 200]\n",
    "        x_copy['age_bin'] = pd.cut(x['patient_age'].astype(int), bins=age_bins, right=False)\n",
    "        x_copy['payer_type'] = x_copy.groupby('age_bin')['payer_type'].transform(lambda x: x.fillna(x.mode()[0] if not x.mode().empty else 'Unknown'))\n",
    "        x_copy['bmi'] = x_copy.groupby('age_bin')['bmi'].transform(lambda x: x.fillna(x.median()))\n",
    "        x_copy['patient_race'] = x.groupby('patient_zip3')['patient_race'].transform(lambda x: x.fillna(x.mode()[0] if not x.mode().empty else 'Other'))\n",
    "        return x_copy"
   ]
  },
  {
   "cell_type": "code",
   "execution_count": 8,
   "id": "99dc0332",
   "metadata": {
    "execution": {
     "iopub.execute_input": "2024-06-12T11:56:57.725574Z",
     "iopub.status.busy": "2024-06-12T11:56:57.724972Z",
     "iopub.status.idle": "2024-06-12T11:56:57.734969Z",
     "shell.execute_reply": "2024-06-12T11:56:57.733733Z"
    },
    "papermill": {
     "duration": 0.029269,
     "end_time": "2024-06-12T11:56:57.737581",
     "exception": false,
     "start_time": "2024-06-12T11:56:57.708312",
     "status": "completed"
    },
    "tags": []
   },
   "outputs": [],
   "source": [
    "def desc_cleaner(x):\n",
    "    x_copy = x.copy()\n",
    "    \n",
    "    rep = {\n",
    "        #'malig ' : 'malignant ',\n",
    "        'malig ' : '',\n",
    "        'malignant ' : '',\n",
    "        #'neoplm' : 'neoplasm',\n",
    "        'neoplm ' : '',\n",
    "        'neoplasm ' : '',\n",
    "        'unsp ' : 'unspecified ',\n",
    "        'ovrlp' : 'overlapping',\n",
    "        'sites' : 'site',\n",
    "        'site,' : 'site',\n",
    "        'breast,' : 'breast',\n",
    "        'areola,' : 'areola',\n",
    "        '(female),' : 'female',\n",
    "        #' of ' : ' ',\n",
    "        'of ' : '',\n",
    "        ' and ' : ' ',\n",
    "        '-' : ' '\n",
    "    }\n",
    "    rep = dict((re.escape(k), v) for k, v in rep.items())\n",
    "    pattern = re.compile(\"|\".join(rep.keys()))\n",
    "\n",
    "    x_copy['breast_cancer_diagnosis_desc'] = x_copy.breast_cancer_diagnosis_desc.astype('str').apply(\n",
    "        lambda x: pattern.sub(lambda m: rep[re.escape(m.group(0))], x.lower())\n",
    "    )\n",
    "    \n",
    "    return x_copy\n",
    "\n",
    "DescCleaner = FunctionTransformer(desc_cleaner)"
   ]
  },
  {
   "cell_type": "code",
   "execution_count": 9,
   "id": "e1129830",
   "metadata": {
    "execution": {
     "iopub.execute_input": "2024-06-12T11:56:57.769313Z",
     "iopub.status.busy": "2024-06-12T11:56:57.768817Z",
     "iopub.status.idle": "2024-06-12T11:56:57.782496Z",
     "shell.execute_reply": "2024-06-12T11:56:57.781225Z"
    },
    "papermill": {
     "duration": 0.033277,
     "end_time": "2024-06-12T11:56:57.785477",
     "exception": false,
     "start_time": "2024-06-12T11:56:57.752200",
     "status": "completed"
    },
    "tags": []
   },
   "outputs": [],
   "source": [
    "def desc_indicator(x):\n",
    "    x_copy = x.copy()\n",
    "    x_copy['breast_cancer_diagnosis_desc'] = x_copy.breast_cancer_diagnosis_desc.astype(str).apply(lambda x: 'upper' in x).astype(str) +\\\n",
    "                        x_copy.breast_cancer_diagnosis_desc.astype(str).apply(lambda x: 'lower' in x).astype(str) +\\\n",
    "                        x_copy.breast_cancer_diagnosis_desc.astype(str).apply(lambda x: 'inner' in x).astype(str) +\\\n",
    "                        x_copy.breast_cancer_diagnosis_desc.astype(str).apply(lambda x: 'outer' in x).astype(str) +\\\n",
    "                        x_copy.breast_cancer_diagnosis_desc.astype(str).apply(lambda x: 'axillary' in x).astype(str) +\\\n",
    "                        x_copy.breast_cancer_diagnosis_desc.astype(str).apply(lambda x: 'breast' in x).astype(str) +\\\n",
    "                        x_copy.breast_cancer_diagnosis_desc.astype(str).apply(lambda x: 'secondary' in x).astype(str) +\\\n",
    "                        x_copy.breast_cancer_diagnosis_desc.astype(str).apply(lambda x: 'other' in x).astype(str) +\\\n",
    "                        x_copy.breast_cancer_diagnosis_desc.astype(str).apply(lambda x: 'areola' in x).astype(str) +\\\n",
    "                        x_copy.breast_cancer_diagnosis_desc.astype(str).apply(lambda x: 'overlapping' in x).astype(str) +\\\n",
    "                        x_copy.breast_cancer_diagnosis_desc.astype(str).apply(lambda x: 'central' in x).astype(str) +\\\n",
    "                        x_copy.breast_cancer_diagnosis_desc.astype(str).apply(lambda x: 'unspecified site' in x).astype(str) +\\\n",
    "                        x_copy.breast_cancer_diagnosis_desc.astype(str).apply(lambda x: 'male' in x).astype(str) +\\\n",
    "                        x_copy.breast_cancer_diagnosis_desc.astype(str).apply(lambda x: 'female' in x).astype(str) +\\\n",
    "                        x_copy.breast_cancer_diagnosis_desc.astype(str).apply(lambda x: 'left' in x).astype(str) +\\\n",
    "                        x_copy.breast_cancer_diagnosis_desc.astype(str).apply(lambda x: 'right' in x).astype(str) +\\\n",
    "                        x_copy.breast_cancer_diagnosis_desc.astype(str).apply(lambda x: 'unspecified male' in x or 'unspecified female' in x).astype(str)\n",
    "    return x_copy\n",
    "\n",
    "DescIndicator = FunctionTransformer(desc_indicator)"
   ]
  },
  {
   "cell_type": "code",
   "execution_count": 10,
   "id": "d0002ad2",
   "metadata": {
    "execution": {
     "iopub.execute_input": "2024-06-12T11:56:57.818645Z",
     "iopub.status.busy": "2024-06-12T11:56:57.817701Z",
     "iopub.status.idle": "2024-06-12T11:56:57.825908Z",
     "shell.execute_reply": "2024-06-12T11:56:57.824667Z"
    },
    "papermill": {
     "duration": 0.026672,
     "end_time": "2024-06-12T11:56:57.828147",
     "exception": false,
     "start_time": "2024-06-12T11:56:57.801475",
     "status": "completed"
    },
    "tags": []
   },
   "outputs": [],
   "source": [
    "def icd_features(x):\n",
    "    x_copy = x.copy()\n",
    "    x_copy['type'] = (x_copy.breast_cancer_diagnosis_code.astype(str).str[0] == 'C').astype(np.uint8)\n",
    "    x_copy['cat'] = x_copy['breast_cancer_diagnosis_code'].astype(str).str[:5]\n",
    "    x_copy['icd_race'] = x_copy.patient_race.astype(str).str.strip() + '-' + x_copy['type'].astype(str)\n",
    "    x_copy['icd_state'] = x_copy.patient_state.astype(str).str.strip() + '-' + x_copy['type'].astype(str)\n",
    "    x_copy['icd_payer'] = x_copy.payer_type.astype(str).str.strip() + '-' + x_copy['type'].astype(str)\n",
    "    return x_copy\n",
    "\n",
    "ICDFeatures = FunctionTransformer(icd_features)"
   ]
  },
  {
   "cell_type": "code",
   "execution_count": 11,
   "id": "c0e657c1",
   "metadata": {
    "execution": {
     "iopub.execute_input": "2024-06-12T11:56:57.859763Z",
     "iopub.status.busy": "2024-06-12T11:56:57.859282Z",
     "iopub.status.idle": "2024-06-12T11:56:57.867326Z",
     "shell.execute_reply": "2024-06-12T11:56:57.866125Z"
    },
    "papermill": {
     "duration": 0.026828,
     "end_time": "2024-06-12T11:56:57.869708",
     "exception": false,
     "start_time": "2024-06-12T11:56:57.842880",
     "status": "completed"
    },
    "tags": []
   },
   "outputs": [],
   "source": [
    "def bcdc_cleaner(x):\n",
    "    df = x.copy()\n",
    "    data_mapping = {\n",
    "        '1749': 'C5091',\n",
    "        '1744': 'C5041',\n",
    "        '1748': 'C509',\n",
    "        '1742': 'C5021',\n",
    "        '1741': 'C5011',\n",
    "        '1745': 'C5051',\n",
    "        '1743': 'C5031',\n",
    "        '1746': 'C5061'\n",
    "    }\n",
    "    df['breast_cancer_diagnosis_code'] = df['breast_cancer_diagnosis_code'].replace(data_mapping)\n",
    "    df['breast_cancer_diagnosis_code'] = df['breast_cancer_diagnosis_code'].apply(lambda x: x[:4] + '1' + x[5:] if len(x) >= 5 and x[4] == '2' else x)\n",
    "    df['breast_cancer_diagnosis_code'] = df['breast_cancer_diagnosis_code'].replace({'C509': 'C5091'})\n",
    "    return df\n",
    "\n",
    "BcdcCleaner = FunctionTransformer(bcdc_cleaner)"
   ]
  },
  {
   "cell_type": "code",
   "execution_count": 12,
   "id": "14a2cda5",
   "metadata": {
    "execution": {
     "iopub.execute_input": "2024-06-12T11:56:57.902762Z",
     "iopub.status.busy": "2024-06-12T11:56:57.902281Z",
     "iopub.status.idle": "2024-06-12T11:56:57.909209Z",
     "shell.execute_reply": "2024-06-12T11:56:57.907767Z"
    },
    "papermill": {
     "duration": 0.026494,
     "end_time": "2024-06-12T11:56:57.911758",
     "exception": false,
     "start_time": "2024-06-12T11:56:57.885264",
     "status": "completed"
    },
    "tags": []
   },
   "outputs": [],
   "source": [
    "def cat_imputer(x):\n",
    "    x_copy = x.copy()\n",
    "    x_copy[list(x_copy.select_dtypes('object'))] = x_copy[list(x_copy.select_dtypes('object'))].fillna('Null').astype(str)\n",
    "    return x_copy\n",
    "\n",
    "CatImputer = FunctionTransformer(cat_imputer)"
   ]
  },
  {
   "cell_type": "code",
   "execution_count": 13,
   "id": "ce9dc51d",
   "metadata": {
    "execution": {
     "iopub.execute_input": "2024-06-12T11:56:57.942863Z",
     "iopub.status.busy": "2024-06-12T11:56:57.942381Z",
     "iopub.status.idle": "2024-06-12T11:56:57.950285Z",
     "shell.execute_reply": "2024-06-12T11:56:57.949033Z"
    },
    "papermill": {
     "duration": 0.026663,
     "end_time": "2024-06-12T11:56:57.952901",
     "exception": false,
     "start_time": "2024-06-12T11:56:57.926238",
     "status": "completed"
    },
    "tags": []
   },
   "outputs": [],
   "source": [
    "def binner(x):\n",
    "    df = x.copy()\n",
    "    df['binned_age'] = (df['patient_age'] / 5).astype(np.uint8).astype(str) + '-' + df['type'].astype(str)\n",
    "    df['bmi_recorded'] = np.where(df['bmi'].isna(), 0, \n",
    "                                np.where(df['bmi'] < 18.5, 1, \n",
    "                                np.where(df['bmi'] < 25, 2, \n",
    "                                np.where(df['bmi'] < 30, 3, 4))))\n",
    "    df['icd_bmi'] = df.bmi_recorded.astype(str) + '-' + df['type'].astype(str)\n",
    "    return df#.astype({'binned_age' : 'object'})\n",
    "\n",
    "Binner = FunctionTransformer(binner)"
   ]
  },
  {
   "cell_type": "code",
   "execution_count": 14,
   "id": "c2f18c78",
   "metadata": {
    "execution": {
     "iopub.execute_input": "2024-06-12T11:56:57.984574Z",
     "iopub.status.busy": "2024-06-12T11:56:57.984059Z",
     "iopub.status.idle": "2024-06-12T11:56:57.993557Z",
     "shell.execute_reply": "2024-06-12T11:56:57.992288Z"
    },
    "papermill": {
     "duration": 0.028309,
     "end_time": "2024-06-12T11:56:57.996139",
     "exception": false,
     "start_time": "2024-06-12T11:56:57.967830",
     "status": "completed"
    },
    "tags": []
   },
   "outputs": [],
   "source": [
    "def temp_features(x):\n",
    "    x_copy = x.copy()\n",
    "    pattern = re.compile(r'Average of \\w{3}-\\d{2}')\n",
    "    relevant_columns = list(filter(pattern.match, x.columns))\n",
    "\n",
    "    df_long = x[relevant_columns].melt(var_name='Month-Year', value_name='Temperature')\n",
    "    df_long['Month'] = df_long['Month-Year'].apply(lambda x: x.split()[2].split('-')[0])\n",
    "    df_long['Year'] = df_long['Month-Year'].apply(lambda x: '20' + x.split()[2].split('-')[1])\n",
    "    monthly_mean = df_long.groupby('Month')['Temperature'].mean().reset_index()\n",
    "    cols = []\n",
    "\n",
    "    for month in monthly_mean['Month']:\n",
    "        mean_temp = df_long[df_long['Month'] == month]['Temperature'].mean()\n",
    "        x_copy[f'{month}'] = mean_temp\n",
    "        cols.append(month)\n",
    "    \n",
    "    x_copy['max_temp'] = x_copy[cols].max(axis=1)\n",
    "    return x_copy\n",
    "\n",
    "TempFeatures = FunctionTransformer(temp_features)"
   ]
  },
  {
   "cell_type": "code",
   "execution_count": 15,
   "id": "894f642c",
   "metadata": {
    "execution": {
     "iopub.execute_input": "2024-06-12T11:56:58.027717Z",
     "iopub.status.busy": "2024-06-12T11:56:58.027231Z",
     "iopub.status.idle": "2024-06-12T11:57:01.084148Z",
     "shell.execute_reply": "2024-06-12T11:57:01.082071Z"
    },
    "papermill": {
     "duration": 3.076816,
     "end_time": "2024-06-12T11:57:01.087998",
     "exception": false,
     "start_time": "2024-06-12T11:56:58.011182",
     "status": "completed"
    },
    "tags": []
   },
   "outputs": [],
   "source": [
    "pre = make_pipeline(TempFeatures, DescCleaner, DescIndicator, ICDFeatures, Binner)\n",
    "temp = pre.transform(train)"
   ]
  },
  {
   "cell_type": "code",
   "execution_count": 16,
   "id": "c126723d",
   "metadata": {
    "execution": {
     "iopub.execute_input": "2024-06-12T11:57:01.124046Z",
     "iopub.status.busy": "2024-06-12T11:57:01.123424Z",
     "iopub.status.idle": "2024-06-12T11:57:01.673093Z",
     "shell.execute_reply": "2024-06-12T11:57:01.671624Z"
    },
    "papermill": {
     "duration": 0.572617,
     "end_time": "2024-06-12T11:57:01.677600",
     "exception": false,
     "start_time": "2024-06-12T11:57:01.104983",
     "status": "completed"
    },
    "tags": []
   },
   "outputs": [
    {
     "data": {
      "text/html": [
       "<div>\n",
       "<style scoped>\n",
       "    .dataframe tbody tr th:only-of-type {\n",
       "        vertical-align: middle;\n",
       "    }\n",
       "\n",
       "    .dataframe tbody tr th {\n",
       "        vertical-align: top;\n",
       "    }\n",
       "\n",
       "    .dataframe thead th {\n",
       "        text-align: right;\n",
       "    }\n",
       "</style>\n",
       "<table border=\"1\" class=\"dataframe\">\n",
       "  <thead>\n",
       "    <tr style=\"text-align: right;\">\n",
       "      <th></th>\n",
       "      <th>patient_race</th>\n",
       "      <th>payer_type</th>\n",
       "      <th>patient_state</th>\n",
       "      <th>patient_zip3</th>\n",
       "      <th>Region</th>\n",
       "      <th>Division</th>\n",
       "      <th>patient_age</th>\n",
       "      <th>patient_gender</th>\n",
       "      <th>bmi</th>\n",
       "      <th>breast_cancer_diagnosis_code</th>\n",
       "      <th>breast_cancer_diagnosis_desc</th>\n",
       "      <th>metastatic_cancer_diagnosis_code</th>\n",
       "      <th>metastatic_first_novel_treatment</th>\n",
       "      <th>metastatic_first_novel_treatment_type</th>\n",
       "      <th>population</th>\n",
       "      <th>density</th>\n",
       "      <th>age_median</th>\n",
       "      <th>age_under_10</th>\n",
       "      <th>age_10_to_19</th>\n",
       "      <th>age_20s</th>\n",
       "      <th>age_30s</th>\n",
       "      <th>age_40s</th>\n",
       "      <th>age_50s</th>\n",
       "      <th>age_60s</th>\n",
       "      <th>age_70s</th>\n",
       "      <th>age_over_80</th>\n",
       "      <th>male</th>\n",
       "      <th>female</th>\n",
       "      <th>married</th>\n",
       "      <th>divorced</th>\n",
       "      <th>never_married</th>\n",
       "      <th>widowed</th>\n",
       "      <th>family_size</th>\n",
       "      <th>family_dual_income</th>\n",
       "      <th>income_household_median</th>\n",
       "      <th>income_household_under_5</th>\n",
       "      <th>income_household_5_to_10</th>\n",
       "      <th>income_household_10_to_15</th>\n",
       "      <th>income_household_15_to_20</th>\n",
       "      <th>income_household_20_to_25</th>\n",
       "      <th>income_household_25_to_35</th>\n",
       "      <th>income_household_35_to_50</th>\n",
       "      <th>income_household_50_to_75</th>\n",
       "      <th>income_household_75_to_100</th>\n",
       "      <th>income_household_100_to_150</th>\n",
       "      <th>income_household_150_over</th>\n",
       "      <th>income_household_six_figure</th>\n",
       "      <th>income_individual_median</th>\n",
       "      <th>home_ownership</th>\n",
       "      <th>housing_units</th>\n",
       "      <th>home_value</th>\n",
       "      <th>rent_median</th>\n",
       "      <th>rent_burden</th>\n",
       "      <th>education_less_highschool</th>\n",
       "      <th>education_highschool</th>\n",
       "      <th>education_some_college</th>\n",
       "      <th>education_bachelors</th>\n",
       "      <th>education_graduate</th>\n",
       "      <th>education_college_or_above</th>\n",
       "      <th>education_stem_degree</th>\n",
       "      <th>labor_force_participation</th>\n",
       "      <th>unemployment_rate</th>\n",
       "      <th>self_employed</th>\n",
       "      <th>farmer</th>\n",
       "      <th>race_white</th>\n",
       "      <th>race_black</th>\n",
       "      <th>race_asian</th>\n",
       "      <th>race_native</th>\n",
       "      <th>race_pacific</th>\n",
       "      <th>race_other</th>\n",
       "      <th>race_multiple</th>\n",
       "      <th>hispanic</th>\n",
       "      <th>disabled</th>\n",
       "      <th>poverty</th>\n",
       "      <th>limited_english</th>\n",
       "      <th>commute_time</th>\n",
       "      <th>health_uninsured</th>\n",
       "      <th>veteran</th>\n",
       "      <th>Average of Jan-13</th>\n",
       "      <th>Average of Feb-13</th>\n",
       "      <th>Average of Mar-13</th>\n",
       "      <th>Average of Apr-13</th>\n",
       "      <th>Average of May-13</th>\n",
       "      <th>Average of Jun-13</th>\n",
       "      <th>Average of Jul-13</th>\n",
       "      <th>Average of Aug-13</th>\n",
       "      <th>Average of Sep-13</th>\n",
       "      <th>Average of Oct-13</th>\n",
       "      <th>Average of Nov-13</th>\n",
       "      <th>Average of Dec-13</th>\n",
       "      <th>Average of Jan-14</th>\n",
       "      <th>Average of Feb-14</th>\n",
       "      <th>Average of Mar-14</th>\n",
       "      <th>Average of Apr-14</th>\n",
       "      <th>Average of May-14</th>\n",
       "      <th>Average of Jun-14</th>\n",
       "      <th>Average of Jul-14</th>\n",
       "      <th>Average of Aug-14</th>\n",
       "      <th>Average of Sep-14</th>\n",
       "      <th>Average of Oct-14</th>\n",
       "      <th>Average of Nov-14</th>\n",
       "      <th>Average of Dec-14</th>\n",
       "      <th>Average of Jan-15</th>\n",
       "      <th>Average of Feb-15</th>\n",
       "      <th>Average of Mar-15</th>\n",
       "      <th>Average of Apr-15</th>\n",
       "      <th>Average of May-15</th>\n",
       "      <th>Average of Jun-15</th>\n",
       "      <th>Average of Jul-15</th>\n",
       "      <th>Average of Aug-15</th>\n",
       "      <th>Average of Sep-15</th>\n",
       "      <th>Average of Oct-15</th>\n",
       "      <th>Average of Nov-15</th>\n",
       "      <th>Average of Dec-15</th>\n",
       "      <th>Average of Jan-16</th>\n",
       "      <th>Average of Feb-16</th>\n",
       "      <th>Average of Mar-16</th>\n",
       "      <th>Average of Apr-16</th>\n",
       "      <th>Average of May-16</th>\n",
       "      <th>Average of Jun-16</th>\n",
       "      <th>Average of Jul-16</th>\n",
       "      <th>Average of Aug-16</th>\n",
       "      <th>Average of Sep-16</th>\n",
       "      <th>Average of Oct-16</th>\n",
       "      <th>Average of Nov-16</th>\n",
       "      <th>Average of Dec-16</th>\n",
       "      <th>Average of Jan-17</th>\n",
       "      <th>Average of Feb-17</th>\n",
       "      <th>Average of Mar-17</th>\n",
       "      <th>Average of Apr-17</th>\n",
       "      <th>Average of May-17</th>\n",
       "      <th>Average of Jun-17</th>\n",
       "      <th>Average of Jul-17</th>\n",
       "      <th>Average of Aug-17</th>\n",
       "      <th>Average of Sep-17</th>\n",
       "      <th>Average of Oct-17</th>\n",
       "      <th>Average of Nov-17</th>\n",
       "      <th>Average of Dec-17</th>\n",
       "      <th>Average of Jan-18</th>\n",
       "      <th>Average of Feb-18</th>\n",
       "      <th>Average of Mar-18</th>\n",
       "      <th>Average of Apr-18</th>\n",
       "      <th>Average of May-18</th>\n",
       "      <th>Average of Jun-18</th>\n",
       "      <th>Average of Jul-18</th>\n",
       "      <th>Average of Aug-18</th>\n",
       "      <th>Average of Sep-18</th>\n",
       "      <th>Average of Oct-18</th>\n",
       "      <th>Average of Nov-18</th>\n",
       "      <th>Average of Dec-18</th>\n",
       "      <th>target</th>\n",
       "      <th>Apr</th>\n",
       "      <th>Aug</th>\n",
       "      <th>Dec</th>\n",
       "      <th>Feb</th>\n",
       "      <th>Jan</th>\n",
       "      <th>Jul</th>\n",
       "      <th>Jun</th>\n",
       "      <th>Mar</th>\n",
       "      <th>May</th>\n",
       "      <th>Nov</th>\n",
       "      <th>Oct</th>\n",
       "      <th>Sep</th>\n",
       "      <th>max_temp</th>\n",
       "      <th>type</th>\n",
       "      <th>cat</th>\n",
       "      <th>icd_race</th>\n",
       "      <th>icd_state</th>\n",
       "      <th>icd_payer</th>\n",
       "      <th>binned_age</th>\n",
       "      <th>bmi_recorded</th>\n",
       "      <th>icd_bmi</th>\n",
       "    </tr>\n",
       "  </thead>\n",
       "  <tbody>\n",
       "    <tr>\n",
       "      <th>0</th>\n",
       "      <td>NaN</td>\n",
       "      <td>COMMERCIAL</td>\n",
       "      <td>AR</td>\n",
       "      <td>724</td>\n",
       "      <td>South</td>\n",
       "      <td>West South Central</td>\n",
       "      <td>39</td>\n",
       "      <td>F</td>\n",
       "      <td>NaN</td>\n",
       "      <td>C50912</td>\n",
       "      <td>FalseFalseFalseFalseFalseTrueFalseFalseFalseFa...</td>\n",
       "      <td>C773</td>\n",
       "      <td>NaN</td>\n",
       "      <td>NaN</td>\n",
       "      <td>3924.87</td>\n",
       "      <td>82.63</td>\n",
       "      <td>42.58</td>\n",
       "      <td>11.61</td>\n",
       "      <td>13.03</td>\n",
       "      <td>10.87</td>\n",
       "      <td>11.80</td>\n",
       "      <td>12.29</td>\n",
       "      <td>13.22</td>\n",
       "      <td>13.47</td>\n",
       "      <td>10.07</td>\n",
       "      <td>3.64</td>\n",
       "      <td>51.43</td>\n",
       "      <td>48.57</td>\n",
       "      <td>51.05</td>\n",
       "      <td>16.72</td>\n",
       "      <td>23.57</td>\n",
       "      <td>8.66</td>\n",
       "      <td>3.01</td>\n",
       "      <td>43.99</td>\n",
       "      <td>44483.35</td>\n",
       "      <td>2.21</td>\n",
       "      <td>3.97</td>\n",
       "      <td>8.52</td>\n",
       "      <td>7.08</td>\n",
       "      <td>7.67</td>\n",
       "      <td>13.82</td>\n",
       "      <td>15.14</td>\n",
       "      <td>17.51</td>\n",
       "      <td>11.26</td>\n",
       "      <td>8.90</td>\n",
       "      <td>3.93</td>\n",
       "      <td>12.83</td>\n",
       "      <td>24048.55</td>\n",
       "      <td>72.11</td>\n",
       "      <td>1513.75</td>\n",
       "      <td>87384.33</td>\n",
       "      <td>641.39</td>\n",
       "      <td>27.52</td>\n",
       "      <td>16.55</td>\n",
       "      <td>41.83</td>\n",
       "      <td>28.31</td>\n",
       "      <td>9.21</td>\n",
       "      <td>4.11</td>\n",
       "      <td>13.32</td>\n",
       "      <td>38.78</td>\n",
       "      <td>53.60</td>\n",
       "      <td>5.85</td>\n",
       "      <td>11.82</td>\n",
       "      <td>5.31</td>\n",
       "      <td>92.95</td>\n",
       "      <td>1.73</td>\n",
       "      <td>0.33</td>\n",
       "      <td>0.20</td>\n",
       "      <td>0.03</td>\n",
       "      <td>0.83</td>\n",
       "      <td>3.94</td>\n",
       "      <td>3.03</td>\n",
       "      <td>22.24</td>\n",
       "      <td>19.27</td>\n",
       "      <td>0.42</td>\n",
       "      <td>25.35</td>\n",
       "      <td>8.06</td>\n",
       "      <td>8.11</td>\n",
       "      <td>38.55</td>\n",
       "      <td>39.88</td>\n",
       "      <td>42.75</td>\n",
       "      <td>55.16</td>\n",
       "      <td>65.17</td>\n",
       "      <td>75.98</td>\n",
       "      <td>76.75</td>\n",
       "      <td>76.45</td>\n",
       "      <td>73.67</td>\n",
       "      <td>59.73</td>\n",
       "      <td>45.18</td>\n",
       "      <td>37.43</td>\n",
       "      <td>31.67</td>\n",
       "      <td>33.83</td>\n",
       "      <td>42.35</td>\n",
       "      <td>57.72</td>\n",
       "      <td>67.35</td>\n",
       "      <td>75.92</td>\n",
       "      <td>74.28</td>\n",
       "      <td>79.59</td>\n",
       "      <td>70.84</td>\n",
       "      <td>62.39</td>\n",
       "      <td>41.89</td>\n",
       "      <td>41.46</td>\n",
       "      <td>35.24</td>\n",
       "      <td>31.10</td>\n",
       "      <td>45.50</td>\n",
       "      <td>60.94</td>\n",
       "      <td>68.49</td>\n",
       "      <td>77.69</td>\n",
       "      <td>81.35</td>\n",
       "      <td>76.28</td>\n",
       "      <td>73.32</td>\n",
       "      <td>60.32</td>\n",
       "      <td>51.00</td>\n",
       "      <td>48.37</td>\n",
       "      <td>35.76</td>\n",
       "      <td>42.89</td>\n",
       "      <td>53.21</td>\n",
       "      <td>61.07</td>\n",
       "      <td>66.29</td>\n",
       "      <td>82.78</td>\n",
       "      <td>81.52</td>\n",
       "      <td>79.52</td>\n",
       "      <td>75.61</td>\n",
       "      <td>65.76</td>\n",
       "      <td>53.85</td>\n",
       "      <td>39.56</td>\n",
       "      <td>41.59</td>\n",
       "      <td>49.01</td>\n",
       "      <td>52.28</td>\n",
       "      <td>63.40</td>\n",
       "      <td>67.11</td>\n",
       "      <td>75.78</td>\n",
       "      <td>80.58</td>\n",
       "      <td>76.16</td>\n",
       "      <td>72.91</td>\n",
       "      <td>62.68</td>\n",
       "      <td>49.73</td>\n",
       "      <td>39.80</td>\n",
       "      <td>31.71</td>\n",
       "      <td>41.69</td>\n",
       "      <td>50.22</td>\n",
       "      <td>52.55</td>\n",
       "      <td>74.77</td>\n",
       "      <td>79.96</td>\n",
       "      <td>81.69</td>\n",
       "      <td>78.30</td>\n",
       "      <td>74.56</td>\n",
       "      <td>59.98</td>\n",
       "      <td>42.98</td>\n",
       "      <td>41.18</td>\n",
       "      <td>191</td>\n",
       "      <td>55.929144</td>\n",
       "      <td>75.0454</td>\n",
       "      <td>41.901614</td>\n",
       "      <td>40.593504</td>\n",
       "      <td>37.529862</td>\n",
       "      <td>76.101177</td>\n",
       "      <td>72.747166</td>\n",
       "      <td>47.064394</td>\n",
       "      <td>64.913018</td>\n",
       "      <td>48.810434</td>\n",
       "      <td>60.632756</td>\n",
       "      <td>70.706177</td>\n",
       "      <td>76.101177</td>\n",
       "      <td>1</td>\n",
       "      <td>C5091</td>\n",
       "      <td>nan-1</td>\n",
       "      <td>AR-1</td>\n",
       "      <td>COMMERCIAL-1</td>\n",
       "      <td>7-1</td>\n",
       "      <td>0</td>\n",
       "      <td>0-1</td>\n",
       "    </tr>\n",
       "    <tr>\n",
       "      <th>1</th>\n",
       "      <td>White</td>\n",
       "      <td>NaN</td>\n",
       "      <td>IL</td>\n",
       "      <td>629</td>\n",
       "      <td>Midwest</td>\n",
       "      <td>East North Central</td>\n",
       "      <td>55</td>\n",
       "      <td>F</td>\n",
       "      <td>35.36</td>\n",
       "      <td>C50412</td>\n",
       "      <td>TrueFalseFalseTrueFalseTrueFalseFalseFalseFals...</td>\n",
       "      <td>C773</td>\n",
       "      <td>NaN</td>\n",
       "      <td>NaN</td>\n",
       "      <td>2745.39</td>\n",
       "      <td>51.79</td>\n",
       "      <td>43.54</td>\n",
       "      <td>11.22</td>\n",
       "      <td>12.19</td>\n",
       "      <td>11.45</td>\n",
       "      <td>11.01</td>\n",
       "      <td>11.35</td>\n",
       "      <td>14.39</td>\n",
       "      <td>14.15</td>\n",
       "      <td>9.17</td>\n",
       "      <td>5.05</td>\n",
       "      <td>49.32</td>\n",
       "      <td>50.68</td>\n",
       "      <td>49.48</td>\n",
       "      <td>15.42</td>\n",
       "      <td>26.93</td>\n",
       "      <td>8.17</td>\n",
       "      <td>3.17</td>\n",
       "      <td>41.41</td>\n",
       "      <td>51796.79</td>\n",
       "      <td>3.67</td>\n",
       "      <td>3.86</td>\n",
       "      <td>6.58</td>\n",
       "      <td>5.58</td>\n",
       "      <td>5.38</td>\n",
       "      <td>11.02</td>\n",
       "      <td>13.09</td>\n",
       "      <td>19.56</td>\n",
       "      <td>11.76</td>\n",
       "      <td>11.40</td>\n",
       "      <td>8.11</td>\n",
       "      <td>19.51</td>\n",
       "      <td>28028.04</td>\n",
       "      <td>76.71</td>\n",
       "      <td>1113.35</td>\n",
       "      <td>92026.84</td>\n",
       "      <td>638.60</td>\n",
       "      <td>29.37</td>\n",
       "      <td>10.93</td>\n",
       "      <td>35.26</td>\n",
       "      <td>35.33</td>\n",
       "      <td>12.46</td>\n",
       "      <td>6.04</td>\n",
       "      <td>18.49</td>\n",
       "      <td>36.35</td>\n",
       "      <td>52.51</td>\n",
       "      <td>7.45</td>\n",
       "      <td>9.19</td>\n",
       "      <td>5.21</td>\n",
       "      <td>88.75</td>\n",
       "      <td>6.44</td>\n",
       "      <td>0.53</td>\n",
       "      <td>0.19</td>\n",
       "      <td>0.05</td>\n",
       "      <td>0.61</td>\n",
       "      <td>3.42</td>\n",
       "      <td>2.78</td>\n",
       "      <td>20.16</td>\n",
       "      <td>16.94</td>\n",
       "      <td>0.43</td>\n",
       "      <td>26.26</td>\n",
       "      <td>6.93</td>\n",
       "      <td>9.71</td>\n",
       "      <td>34.85</td>\n",
       "      <td>36.15</td>\n",
       "      <td>39.41</td>\n",
       "      <td>54.63</td>\n",
       "      <td>65.41</td>\n",
       "      <td>73.89</td>\n",
       "      <td>74.07</td>\n",
       "      <td>74.37</td>\n",
       "      <td>70.44</td>\n",
       "      <td>57.37</td>\n",
       "      <td>42.15</td>\n",
       "      <td>33.16</td>\n",
       "      <td>26.88</td>\n",
       "      <td>28.36</td>\n",
       "      <td>40.32</td>\n",
       "      <td>56.85</td>\n",
       "      <td>66.84</td>\n",
       "      <td>75.12</td>\n",
       "      <td>72.18</td>\n",
       "      <td>77.08</td>\n",
       "      <td>67.15</td>\n",
       "      <td>58.34</td>\n",
       "      <td>38.55</td>\n",
       "      <td>38.54</td>\n",
       "      <td>32.33</td>\n",
       "      <td>25.62</td>\n",
       "      <td>43.52</td>\n",
       "      <td>58.50</td>\n",
       "      <td>66.81</td>\n",
       "      <td>75.41</td>\n",
       "      <td>78.43</td>\n",
       "      <td>73.88</td>\n",
       "      <td>70.78</td>\n",
       "      <td>58.70</td>\n",
       "      <td>50.50</td>\n",
       "      <td>46.71</td>\n",
       "      <td>32.36</td>\n",
       "      <td>38.76</td>\n",
       "      <td>51.68</td>\n",
       "      <td>58.41</td>\n",
       "      <td>64.10</td>\n",
       "      <td>78.15</td>\n",
       "      <td>79.70</td>\n",
       "      <td>78.33</td>\n",
       "      <td>72.80</td>\n",
       "      <td>63.84</td>\n",
       "      <td>50.35</td>\n",
       "      <td>34.90</td>\n",
       "      <td>39.05</td>\n",
       "      <td>45.80</td>\n",
       "      <td>48.45</td>\n",
       "      <td>60.77</td>\n",
       "      <td>65.89</td>\n",
       "      <td>74.46</td>\n",
       "      <td>79.18</td>\n",
       "      <td>73.13</td>\n",
       "      <td>70.13</td>\n",
       "      <td>59.68</td>\n",
       "      <td>46.52</td>\n",
       "      <td>35.15</td>\n",
       "      <td>28.43</td>\n",
       "      <td>40.01</td>\n",
       "      <td>44.18</td>\n",
       "      <td>49.30</td>\n",
       "      <td>72.87</td>\n",
       "      <td>77.40</td>\n",
       "      <td>77.43</td>\n",
       "      <td>75.83</td>\n",
       "      <td>72.64</td>\n",
       "      <td>58.36</td>\n",
       "      <td>39.68</td>\n",
       "      <td>39.71</td>\n",
       "      <td>33</td>\n",
       "      <td>55.929144</td>\n",
       "      <td>75.0454</td>\n",
       "      <td>41.901614</td>\n",
       "      <td>40.593504</td>\n",
       "      <td>37.529862</td>\n",
       "      <td>76.101177</td>\n",
       "      <td>72.747166</td>\n",
       "      <td>47.064394</td>\n",
       "      <td>64.913018</td>\n",
       "      <td>48.810434</td>\n",
       "      <td>60.632756</td>\n",
       "      <td>70.706177</td>\n",
       "      <td>76.101177</td>\n",
       "      <td>1</td>\n",
       "      <td>C5041</td>\n",
       "      <td>White-1</td>\n",
       "      <td>IL-1</td>\n",
       "      <td>nan-1</td>\n",
       "      <td>11-1</td>\n",
       "      <td>4</td>\n",
       "      <td>4-1</td>\n",
       "    </tr>\n",
       "    <tr>\n",
       "      <th>2</th>\n",
       "      <td>NaN</td>\n",
       "      <td>COMMERCIAL</td>\n",
       "      <td>CA</td>\n",
       "      <td>925</td>\n",
       "      <td>West</td>\n",
       "      <td>Pacific</td>\n",
       "      <td>59</td>\n",
       "      <td>F</td>\n",
       "      <td>NaN</td>\n",
       "      <td>1749</td>\n",
       "      <td>FalseFalseFalseFalseFalseTrueFalseFalseFalseFa...</td>\n",
       "      <td>C773</td>\n",
       "      <td>NaN</td>\n",
       "      <td>NaN</td>\n",
       "      <td>38343.18</td>\n",
       "      <td>700.34</td>\n",
       "      <td>36.28</td>\n",
       "      <td>13.27</td>\n",
       "      <td>15.66</td>\n",
       "      <td>13.49</td>\n",
       "      <td>13.45</td>\n",
       "      <td>12.40</td>\n",
       "      <td>11.58</td>\n",
       "      <td>10.47</td>\n",
       "      <td>6.38</td>\n",
       "      <td>3.28</td>\n",
       "      <td>49.99</td>\n",
       "      <td>50.01</td>\n",
       "      <td>48.81</td>\n",
       "      <td>11.90</td>\n",
       "      <td>34.35</td>\n",
       "      <td>4.95</td>\n",
       "      <td>3.80</td>\n",
       "      <td>52.89</td>\n",
       "      <td>78696.87</td>\n",
       "      <td>2.59</td>\n",
       "      <td>1.81</td>\n",
       "      <td>3.16</td>\n",
       "      <td>3.71</td>\n",
       "      <td>3.23</td>\n",
       "      <td>7.40</td>\n",
       "      <td>10.42</td>\n",
       "      <td>16.83</td>\n",
       "      <td>13.45</td>\n",
       "      <td>19.21</td>\n",
       "      <td>18.23</td>\n",
       "      <td>37.44</td>\n",
       "      <td>32818.54</td>\n",
       "      <td>66.82</td>\n",
       "      <td>10825.83</td>\n",
       "      <td>392600.40</td>\n",
       "      <td>1631.64</td>\n",
       "      <td>35.56</td>\n",
       "      <td>16.25</td>\n",
       "      <td>27.55</td>\n",
       "      <td>33.88</td>\n",
       "      <td>13.92</td>\n",
       "      <td>8.39</td>\n",
       "      <td>22.32</td>\n",
       "      <td>43.37</td>\n",
       "      <td>59.47</td>\n",
       "      <td>7.28</td>\n",
       "      <td>13.21</td>\n",
       "      <td>0.44</td>\n",
       "      <td>53.95</td>\n",
       "      <td>6.41</td>\n",
       "      <td>5.83</td>\n",
       "      <td>0.81</td>\n",
       "      <td>0.38</td>\n",
       "      <td>21.35</td>\n",
       "      <td>11.27</td>\n",
       "      <td>46.88</td>\n",
       "      <td>12.83</td>\n",
       "      <td>12.72</td>\n",
       "      <td>4.58</td>\n",
       "      <td>37.07</td>\n",
       "      <td>8.07</td>\n",
       "      <td>7.75</td>\n",
       "      <td>53.14</td>\n",
       "      <td>55.28</td>\n",
       "      <td>64.75</td>\n",
       "      <td>67.38</td>\n",
       "      <td>73.31</td>\n",
       "      <td>79.49</td>\n",
       "      <td>84.01</td>\n",
       "      <td>83.28</td>\n",
       "      <td>79.88</td>\n",
       "      <td>67.84</td>\n",
       "      <td>61.92</td>\n",
       "      <td>55.69</td>\n",
       "      <td>60.56</td>\n",
       "      <td>60.99</td>\n",
       "      <td>65.16</td>\n",
       "      <td>68.01</td>\n",
       "      <td>74.24</td>\n",
       "      <td>78.87</td>\n",
       "      <td>84.65</td>\n",
       "      <td>82.23</td>\n",
       "      <td>81.75</td>\n",
       "      <td>74.25</td>\n",
       "      <td>63.29</td>\n",
       "      <td>56.28</td>\n",
       "      <td>58.32</td>\n",
       "      <td>62.97</td>\n",
       "      <td>67.61</td>\n",
       "      <td>67.39</td>\n",
       "      <td>68.06</td>\n",
       "      <td>80.43</td>\n",
       "      <td>80.98</td>\n",
       "      <td>85.08</td>\n",
       "      <td>82.01</td>\n",
       "      <td>75.16</td>\n",
       "      <td>59.59</td>\n",
       "      <td>53.24</td>\n",
       "      <td>54.54</td>\n",
       "      <td>63.52</td>\n",
       "      <td>63.72</td>\n",
       "      <td>67.45</td>\n",
       "      <td>69.58</td>\n",
       "      <td>82.02</td>\n",
       "      <td>84.83</td>\n",
       "      <td>84.06</td>\n",
       "      <td>77.85</td>\n",
       "      <td>72.50</td>\n",
       "      <td>64.24</td>\n",
       "      <td>55.52</td>\n",
       "      <td>53.54</td>\n",
       "      <td>58.18</td>\n",
       "      <td>65.45</td>\n",
       "      <td>68.51</td>\n",
       "      <td>71.13</td>\n",
       "      <td>80.71</td>\n",
       "      <td>85.64</td>\n",
       "      <td>84.85</td>\n",
       "      <td>78.14</td>\n",
       "      <td>74.03</td>\n",
       "      <td>65.70</td>\n",
       "      <td>59.28</td>\n",
       "      <td>60.34</td>\n",
       "      <td>57.43</td>\n",
       "      <td>60.97</td>\n",
       "      <td>68.50</td>\n",
       "      <td>70.31</td>\n",
       "      <td>78.61</td>\n",
       "      <td>87.24</td>\n",
       "      <td>85.52</td>\n",
       "      <td>80.75</td>\n",
       "      <td>70.81</td>\n",
       "      <td>62.67</td>\n",
       "      <td>55.58</td>\n",
       "      <td>157</td>\n",
       "      <td>55.929144</td>\n",
       "      <td>75.0454</td>\n",
       "      <td>41.901614</td>\n",
       "      <td>40.593504</td>\n",
       "      <td>37.529862</td>\n",
       "      <td>76.101177</td>\n",
       "      <td>72.747166</td>\n",
       "      <td>47.064394</td>\n",
       "      <td>64.913018</td>\n",
       "      <td>48.810434</td>\n",
       "      <td>60.632756</td>\n",
       "      <td>70.706177</td>\n",
       "      <td>76.101177</td>\n",
       "      <td>0</td>\n",
       "      <td>1749</td>\n",
       "      <td>nan-0</td>\n",
       "      <td>CA-0</td>\n",
       "      <td>COMMERCIAL-0</td>\n",
       "      <td>11-0</td>\n",
       "      <td>0</td>\n",
       "      <td>0-0</td>\n",
       "    </tr>\n",
       "    <tr>\n",
       "      <th>3</th>\n",
       "      <td>Hispanic</td>\n",
       "      <td>MEDICAID</td>\n",
       "      <td>CA</td>\n",
       "      <td>900</td>\n",
       "      <td>West</td>\n",
       "      <td>Pacific</td>\n",
       "      <td>59</td>\n",
       "      <td>F</td>\n",
       "      <td>NaN</td>\n",
       "      <td>C50911</td>\n",
       "      <td>FalseFalseFalseFalseFalseTrueFalseFalseFalseFa...</td>\n",
       "      <td>C773</td>\n",
       "      <td>NaN</td>\n",
       "      <td>NaN</td>\n",
       "      <td>36054.12</td>\n",
       "      <td>5294.33</td>\n",
       "      <td>36.65</td>\n",
       "      <td>9.76</td>\n",
       "      <td>11.27</td>\n",
       "      <td>17.23</td>\n",
       "      <td>17.44</td>\n",
       "      <td>13.09</td>\n",
       "      <td>12.30</td>\n",
       "      <td>9.41</td>\n",
       "      <td>5.67</td>\n",
       "      <td>3.82</td>\n",
       "      <td>50.51</td>\n",
       "      <td>49.49</td>\n",
       "      <td>33.48</td>\n",
       "      <td>11.30</td>\n",
       "      <td>50.46</td>\n",
       "      <td>4.77</td>\n",
       "      <td>3.44</td>\n",
       "      <td>55.53</td>\n",
       "      <td>69266.69</td>\n",
       "      <td>6.32</td>\n",
       "      <td>2.95</td>\n",
       "      <td>6.81</td>\n",
       "      <td>4.18</td>\n",
       "      <td>4.13</td>\n",
       "      <td>7.84</td>\n",
       "      <td>10.16</td>\n",
       "      <td>14.42</td>\n",
       "      <td>10.48</td>\n",
       "      <td>13.73</td>\n",
       "      <td>18.96</td>\n",
       "      <td>32.69</td>\n",
       "      <td>36053.40</td>\n",
       "      <td>31.50</td>\n",
       "      <td>12949.12</td>\n",
       "      <td>873756.00</td>\n",
       "      <td>1651.15</td>\n",
       "      <td>37.37</td>\n",
       "      <td>22.92</td>\n",
       "      <td>18.24</td>\n",
       "      <td>21.27</td>\n",
       "      <td>23.89</td>\n",
       "      <td>13.69</td>\n",
       "      <td>37.58</td>\n",
       "      <td>41.75</td>\n",
       "      <td>64.39</td>\n",
       "      <td>8.68</td>\n",
       "      <td>21.23</td>\n",
       "      <td>0.01</td>\n",
       "      <td>42.82</td>\n",
       "      <td>12.22</td>\n",
       "      <td>12.70</td>\n",
       "      <td>1.12</td>\n",
       "      <td>0.15</td>\n",
       "      <td>22.14</td>\n",
       "      <td>8.85</td>\n",
       "      <td>45.53</td>\n",
       "      <td>11.90</td>\n",
       "      <td>20.76</td>\n",
       "      <td>14.74</td>\n",
       "      <td>30.71</td>\n",
       "      <td>10.34</td>\n",
       "      <td>3.03</td>\n",
       "      <td>57.88</td>\n",
       "      <td>57.65</td>\n",
       "      <td>60.86</td>\n",
       "      <td>62.77</td>\n",
       "      <td>67.07</td>\n",
       "      <td>68.41</td>\n",
       "      <td>70.69</td>\n",
       "      <td>71.19</td>\n",
       "      <td>72.74</td>\n",
       "      <td>66.41</td>\n",
       "      <td>65.09</td>\n",
       "      <td>60.87</td>\n",
       "      <td>64.30</td>\n",
       "      <td>60.77</td>\n",
       "      <td>63.01</td>\n",
       "      <td>64.37</td>\n",
       "      <td>69.73</td>\n",
       "      <td>68.46</td>\n",
       "      <td>73.62</td>\n",
       "      <td>73.65</td>\n",
       "      <td>75.96</td>\n",
       "      <td>71.83</td>\n",
       "      <td>67.04</td>\n",
       "      <td>59.73</td>\n",
       "      <td>63.27</td>\n",
       "      <td>63.83</td>\n",
       "      <td>67.72</td>\n",
       "      <td>64.39</td>\n",
       "      <td>62.56</td>\n",
       "      <td>69.66</td>\n",
       "      <td>72.21</td>\n",
       "      <td>77.47</td>\n",
       "      <td>76.77</td>\n",
       "      <td>74.50</td>\n",
       "      <td>63.48</td>\n",
       "      <td>57.98</td>\n",
       "      <td>57.69</td>\n",
       "      <td>66.53</td>\n",
       "      <td>61.89</td>\n",
       "      <td>64.86</td>\n",
       "      <td>62.63</td>\n",
       "      <td>70.45</td>\n",
       "      <td>73.09</td>\n",
       "      <td>71.94</td>\n",
       "      <td>72.26</td>\n",
       "      <td>69.56</td>\n",
       "      <td>66.85</td>\n",
       "      <td>58.29</td>\n",
       "      <td>56.08</td>\n",
       "      <td>57.88</td>\n",
       "      <td>63.84</td>\n",
       "      <td>65.03</td>\n",
       "      <td>63.90</td>\n",
       "      <td>68.95</td>\n",
       "      <td>73.58</td>\n",
       "      <td>73.62</td>\n",
       "      <td>72.88</td>\n",
       "      <td>73.84</td>\n",
       "      <td>68.87</td>\n",
       "      <td>66.63</td>\n",
       "      <td>63.75</td>\n",
       "      <td>59.89</td>\n",
       "      <td>59.35</td>\n",
       "      <td>63.34</td>\n",
       "      <td>63.10</td>\n",
       "      <td>67.45</td>\n",
       "      <td>75.86</td>\n",
       "      <td>75.24</td>\n",
       "      <td>71.10</td>\n",
       "      <td>68.95</td>\n",
       "      <td>65.46</td>\n",
       "      <td>59.46</td>\n",
       "      <td>146</td>\n",
       "      <td>55.929144</td>\n",
       "      <td>75.0454</td>\n",
       "      <td>41.901614</td>\n",
       "      <td>40.593504</td>\n",
       "      <td>37.529862</td>\n",
       "      <td>76.101177</td>\n",
       "      <td>72.747166</td>\n",
       "      <td>47.064394</td>\n",
       "      <td>64.913018</td>\n",
       "      <td>48.810434</td>\n",
       "      <td>60.632756</td>\n",
       "      <td>70.706177</td>\n",
       "      <td>76.101177</td>\n",
       "      <td>1</td>\n",
       "      <td>C5091</td>\n",
       "      <td>Hispanic-1</td>\n",
       "      <td>CA-1</td>\n",
       "      <td>MEDICAID-1</td>\n",
       "      <td>11-1</td>\n",
       "      <td>0</td>\n",
       "      <td>0-1</td>\n",
       "    </tr>\n",
       "    <tr>\n",
       "      <th>4</th>\n",
       "      <td>NaN</td>\n",
       "      <td>COMMERCIAL</td>\n",
       "      <td>CA</td>\n",
       "      <td>934</td>\n",
       "      <td>West</td>\n",
       "      <td>Pacific</td>\n",
       "      <td>71</td>\n",
       "      <td>F</td>\n",
       "      <td>NaN</td>\n",
       "      <td>1748</td>\n",
       "      <td>FalseFalseFalseFalseFalseTrueFalseTrueFalseFal...</td>\n",
       "      <td>C7951</td>\n",
       "      <td>NaN</td>\n",
       "      <td>NaN</td>\n",
       "      <td>13700.37</td>\n",
       "      <td>400.48</td>\n",
       "      <td>41.78</td>\n",
       "      <td>10.03</td>\n",
       "      <td>16.43</td>\n",
       "      <td>12.97</td>\n",
       "      <td>11.29</td>\n",
       "      <td>10.09</td>\n",
       "      <td>11.56</td>\n",
       "      <td>13.28</td>\n",
       "      <td>8.78</td>\n",
       "      <td>5.53</td>\n",
       "      <td>51.99</td>\n",
       "      <td>48.01</td>\n",
       "      <td>48.21</td>\n",
       "      <td>11.16</td>\n",
       "      <td>35.60</td>\n",
       "      <td>5.01</td>\n",
       "      <td>3.09</td>\n",
       "      <td>51.88</td>\n",
       "      <td>82314.64</td>\n",
       "      <td>2.74</td>\n",
       "      <td>1.21</td>\n",
       "      <td>2.56</td>\n",
       "      <td>2.59</td>\n",
       "      <td>4.37</td>\n",
       "      <td>6.65</td>\n",
       "      <td>11.11</td>\n",
       "      <td>16.45</td>\n",
       "      <td>12.73</td>\n",
       "      <td>17.57</td>\n",
       "      <td>22.02</td>\n",
       "      <td>39.59</td>\n",
       "      <td>34754.64</td>\n",
       "      <td>58.81</td>\n",
       "      <td>4692.18</td>\n",
       "      <td>602986.80</td>\n",
       "      <td>1631.84</td>\n",
       "      <td>34.58</td>\n",
       "      <td>13.08</td>\n",
       "      <td>21.22</td>\n",
       "      <td>34.58</td>\n",
       "      <td>19.14</td>\n",
       "      <td>12.00</td>\n",
       "      <td>31.14</td>\n",
       "      <td>48.86</td>\n",
       "      <td>55.20</td>\n",
       "      <td>6.39</td>\n",
       "      <td>14.53</td>\n",
       "      <td>1.46</td>\n",
       "      <td>75.58</td>\n",
       "      <td>3.29</td>\n",
       "      <td>3.13</td>\n",
       "      <td>0.92</td>\n",
       "      <td>0.28</td>\n",
       "      <td>7.25</td>\n",
       "      <td>9.56</td>\n",
       "      <td>34.11</td>\n",
       "      <td>11.96</td>\n",
       "      <td>10.34</td>\n",
       "      <td>5.54</td>\n",
       "      <td>23.48</td>\n",
       "      <td>6.54</td>\n",
       "      <td>8.44</td>\n",
       "      <td>51.08</td>\n",
       "      <td>52.29</td>\n",
       "      <td>58.31</td>\n",
       "      <td>60.43</td>\n",
       "      <td>63.65</td>\n",
       "      <td>67.41</td>\n",
       "      <td>68.21</td>\n",
       "      <td>67.95</td>\n",
       "      <td>67.95</td>\n",
       "      <td>61.73</td>\n",
       "      <td>58.04</td>\n",
       "      <td>53.04</td>\n",
       "      <td>58.12</td>\n",
       "      <td>55.83</td>\n",
       "      <td>58.73</td>\n",
       "      <td>59.53</td>\n",
       "      <td>64.20</td>\n",
       "      <td>64.02</td>\n",
       "      <td>68.84</td>\n",
       "      <td>68.18</td>\n",
       "      <td>67.29</td>\n",
       "      <td>67.08</td>\n",
       "      <td>59.49</td>\n",
       "      <td>54.23</td>\n",
       "      <td>55.19</td>\n",
       "      <td>57.03</td>\n",
       "      <td>63.73</td>\n",
       "      <td>60.69</td>\n",
       "      <td>58.19</td>\n",
       "      <td>65.61</td>\n",
       "      <td>67.79</td>\n",
       "      <td>69.57</td>\n",
       "      <td>71.37</td>\n",
       "      <td>68.40</td>\n",
       "      <td>55.45</td>\n",
       "      <td>49.49</td>\n",
       "      <td>54.15</td>\n",
       "      <td>60.98</td>\n",
       "      <td>58.44</td>\n",
       "      <td>62.06</td>\n",
       "      <td>61.68</td>\n",
       "      <td>70.15</td>\n",
       "      <td>69.49</td>\n",
       "      <td>66.71</td>\n",
       "      <td>68.10</td>\n",
       "      <td>64.41</td>\n",
       "      <td>59.72</td>\n",
       "      <td>52.52</td>\n",
       "      <td>51.80</td>\n",
       "      <td>54.20</td>\n",
       "      <td>59.36</td>\n",
       "      <td>60.44</td>\n",
       "      <td>62.41</td>\n",
       "      <td>67.57</td>\n",
       "      <td>71.29</td>\n",
       "      <td>70.83</td>\n",
       "      <td>69.43</td>\n",
       "      <td>65.56</td>\n",
       "      <td>59.60</td>\n",
       "      <td>54.21</td>\n",
       "      <td>57.70</td>\n",
       "      <td>53.60</td>\n",
       "      <td>55.78</td>\n",
       "      <td>59.45</td>\n",
       "      <td>60.24</td>\n",
       "      <td>64.77</td>\n",
       "      <td>69.81</td>\n",
       "      <td>70.13</td>\n",
       "      <td>68.10</td>\n",
       "      <td>65.38</td>\n",
       "      <td>60.72</td>\n",
       "      <td>54.08</td>\n",
       "      <td>286</td>\n",
       "      <td>55.929144</td>\n",
       "      <td>75.0454</td>\n",
       "      <td>41.901614</td>\n",
       "      <td>40.593504</td>\n",
       "      <td>37.529862</td>\n",
       "      <td>76.101177</td>\n",
       "      <td>72.747166</td>\n",
       "      <td>47.064394</td>\n",
       "      <td>64.913018</td>\n",
       "      <td>48.810434</td>\n",
       "      <td>60.632756</td>\n",
       "      <td>70.706177</td>\n",
       "      <td>76.101177</td>\n",
       "      <td>0</td>\n",
       "      <td>1748</td>\n",
       "      <td>nan-0</td>\n",
       "      <td>CA-0</td>\n",
       "      <td>COMMERCIAL-0</td>\n",
       "      <td>14-0</td>\n",
       "      <td>0</td>\n",
       "      <td>0-0</td>\n",
       "    </tr>\n",
       "  </tbody>\n",
       "</table>\n",
       "</div>"
      ],
      "text/plain": [
       "  patient_race  payer_type patient_state  patient_zip3   Region  \\\n",
       "0          NaN  COMMERCIAL            AR           724    South   \n",
       "1        White         NaN            IL           629  Midwest   \n",
       "2          NaN  COMMERCIAL            CA           925     West   \n",
       "3     Hispanic    MEDICAID            CA           900     West   \n",
       "4          NaN  COMMERCIAL            CA           934     West   \n",
       "\n",
       "             Division  patient_age patient_gender    bmi  \\\n",
       "0  West South Central           39              F    NaN   \n",
       "1  East North Central           55              F  35.36   \n",
       "2             Pacific           59              F    NaN   \n",
       "3             Pacific           59              F    NaN   \n",
       "4             Pacific           71              F    NaN   \n",
       "\n",
       "  breast_cancer_diagnosis_code  \\\n",
       "0                       C50912   \n",
       "1                       C50412   \n",
       "2                         1749   \n",
       "3                       C50911   \n",
       "4                         1748   \n",
       "\n",
       "                        breast_cancer_diagnosis_desc  \\\n",
       "0  FalseFalseFalseFalseFalseTrueFalseFalseFalseFa...   \n",
       "1  TrueFalseFalseTrueFalseTrueFalseFalseFalseFals...   \n",
       "2  FalseFalseFalseFalseFalseTrueFalseFalseFalseFa...   \n",
       "3  FalseFalseFalseFalseFalseTrueFalseFalseFalseFa...   \n",
       "4  FalseFalseFalseFalseFalseTrueFalseTrueFalseFal...   \n",
       "\n",
       "  metastatic_cancer_diagnosis_code metastatic_first_novel_treatment  \\\n",
       "0                             C773                              NaN   \n",
       "1                             C773                              NaN   \n",
       "2                             C773                              NaN   \n",
       "3                             C773                              NaN   \n",
       "4                            C7951                              NaN   \n",
       "\n",
       "  metastatic_first_novel_treatment_type  population  density  age_median  \\\n",
       "0                                   NaN     3924.87    82.63       42.58   \n",
       "1                                   NaN     2745.39    51.79       43.54   \n",
       "2                                   NaN    38343.18   700.34       36.28   \n",
       "3                                   NaN    36054.12  5294.33       36.65   \n",
       "4                                   NaN    13700.37   400.48       41.78   \n",
       "\n",
       "   age_under_10  age_10_to_19  age_20s  age_30s  age_40s  age_50s  age_60s  \\\n",
       "0         11.61         13.03    10.87    11.80    12.29    13.22    13.47   \n",
       "1         11.22         12.19    11.45    11.01    11.35    14.39    14.15   \n",
       "2         13.27         15.66    13.49    13.45    12.40    11.58    10.47   \n",
       "3          9.76         11.27    17.23    17.44    13.09    12.30     9.41   \n",
       "4         10.03         16.43    12.97    11.29    10.09    11.56    13.28   \n",
       "\n",
       "   age_70s  age_over_80   male  female  married  divorced  never_married  \\\n",
       "0    10.07         3.64  51.43   48.57    51.05     16.72          23.57   \n",
       "1     9.17         5.05  49.32   50.68    49.48     15.42          26.93   \n",
       "2     6.38         3.28  49.99   50.01    48.81     11.90          34.35   \n",
       "3     5.67         3.82  50.51   49.49    33.48     11.30          50.46   \n",
       "4     8.78         5.53  51.99   48.01    48.21     11.16          35.60   \n",
       "\n",
       "   widowed  family_size  family_dual_income  income_household_median  \\\n",
       "0     8.66         3.01               43.99                 44483.35   \n",
       "1     8.17         3.17               41.41                 51796.79   \n",
       "2     4.95         3.80               52.89                 78696.87   \n",
       "3     4.77         3.44               55.53                 69266.69   \n",
       "4     5.01         3.09               51.88                 82314.64   \n",
       "\n",
       "   income_household_under_5  income_household_5_to_10  \\\n",
       "0                      2.21                      3.97   \n",
       "1                      3.67                      3.86   \n",
       "2                      2.59                      1.81   \n",
       "3                      6.32                      2.95   \n",
       "4                      2.74                      1.21   \n",
       "\n",
       "   income_household_10_to_15  income_household_15_to_20  \\\n",
       "0                       8.52                       7.08   \n",
       "1                       6.58                       5.58   \n",
       "2                       3.16                       3.71   \n",
       "3                       6.81                       4.18   \n",
       "4                       2.56                       2.59   \n",
       "\n",
       "   income_household_20_to_25  income_household_25_to_35  \\\n",
       "0                       7.67                      13.82   \n",
       "1                       5.38                      11.02   \n",
       "2                       3.23                       7.40   \n",
       "3                       4.13                       7.84   \n",
       "4                       4.37                       6.65   \n",
       "\n",
       "   income_household_35_to_50  income_household_50_to_75  \\\n",
       "0                      15.14                      17.51   \n",
       "1                      13.09                      19.56   \n",
       "2                      10.42                      16.83   \n",
       "3                      10.16                      14.42   \n",
       "4                      11.11                      16.45   \n",
       "\n",
       "   income_household_75_to_100  income_household_100_to_150  \\\n",
       "0                       11.26                         8.90   \n",
       "1                       11.76                        11.40   \n",
       "2                       13.45                        19.21   \n",
       "3                       10.48                        13.73   \n",
       "4                       12.73                        17.57   \n",
       "\n",
       "   income_household_150_over  income_household_six_figure  \\\n",
       "0                       3.93                        12.83   \n",
       "1                       8.11                        19.51   \n",
       "2                      18.23                        37.44   \n",
       "3                      18.96                        32.69   \n",
       "4                      22.02                        39.59   \n",
       "\n",
       "   income_individual_median  home_ownership  housing_units  home_value  \\\n",
       "0                  24048.55           72.11        1513.75    87384.33   \n",
       "1                  28028.04           76.71        1113.35    92026.84   \n",
       "2                  32818.54           66.82       10825.83   392600.40   \n",
       "3                  36053.40           31.50       12949.12   873756.00   \n",
       "4                  34754.64           58.81        4692.18   602986.80   \n",
       "\n",
       "   rent_median  rent_burden  education_less_highschool  education_highschool  \\\n",
       "0       641.39        27.52                      16.55                 41.83   \n",
       "1       638.60        29.37                      10.93                 35.26   \n",
       "2      1631.64        35.56                      16.25                 27.55   \n",
       "3      1651.15        37.37                      22.92                 18.24   \n",
       "4      1631.84        34.58                      13.08                 21.22   \n",
       "\n",
       "   education_some_college  education_bachelors  education_graduate  \\\n",
       "0                   28.31                 9.21                4.11   \n",
       "1                   35.33                12.46                6.04   \n",
       "2                   33.88                13.92                8.39   \n",
       "3                   21.27                23.89               13.69   \n",
       "4                   34.58                19.14               12.00   \n",
       "\n",
       "   education_college_or_above  education_stem_degree  \\\n",
       "0                       13.32                  38.78   \n",
       "1                       18.49                  36.35   \n",
       "2                       22.32                  43.37   \n",
       "3                       37.58                  41.75   \n",
       "4                       31.14                  48.86   \n",
       "\n",
       "   labor_force_participation  unemployment_rate  self_employed  farmer  \\\n",
       "0                      53.60               5.85          11.82    5.31   \n",
       "1                      52.51               7.45           9.19    5.21   \n",
       "2                      59.47               7.28          13.21    0.44   \n",
       "3                      64.39               8.68          21.23    0.01   \n",
       "4                      55.20               6.39          14.53    1.46   \n",
       "\n",
       "   race_white  race_black  race_asian  race_native  race_pacific  race_other  \\\n",
       "0       92.95        1.73        0.33         0.20          0.03        0.83   \n",
       "1       88.75        6.44        0.53         0.19          0.05        0.61   \n",
       "2       53.95        6.41        5.83         0.81          0.38       21.35   \n",
       "3       42.82       12.22       12.70         1.12          0.15       22.14   \n",
       "4       75.58        3.29        3.13         0.92          0.28        7.25   \n",
       "\n",
       "   race_multiple  hispanic  disabled  poverty  limited_english  commute_time  \\\n",
       "0           3.94      3.03     22.24    19.27             0.42         25.35   \n",
       "1           3.42      2.78     20.16    16.94             0.43         26.26   \n",
       "2          11.27     46.88     12.83    12.72             4.58         37.07   \n",
       "3           8.85     45.53     11.90    20.76            14.74         30.71   \n",
       "4           9.56     34.11     11.96    10.34             5.54         23.48   \n",
       "\n",
       "   health_uninsured  veteran  Average of Jan-13  Average of Feb-13  \\\n",
       "0              8.06     8.11              38.55              39.88   \n",
       "1              6.93     9.71              34.85              36.15   \n",
       "2              8.07     7.75              53.14              55.28   \n",
       "3             10.34     3.03              57.88              57.65   \n",
       "4              6.54     8.44              51.08              52.29   \n",
       "\n",
       "   Average of Mar-13  Average of Apr-13  Average of May-13  Average of Jun-13  \\\n",
       "0              42.75              55.16              65.17              75.98   \n",
       "1              39.41              54.63              65.41              73.89   \n",
       "2              64.75              67.38              73.31              79.49   \n",
       "3              60.86              62.77              67.07              68.41   \n",
       "4              58.31              60.43              63.65              67.41   \n",
       "\n",
       "   Average of Jul-13  Average of Aug-13  Average of Sep-13  Average of Oct-13  \\\n",
       "0              76.75              76.45              73.67              59.73   \n",
       "1              74.07              74.37              70.44              57.37   \n",
       "2              84.01              83.28              79.88              67.84   \n",
       "3              70.69              71.19              72.74              66.41   \n",
       "4              68.21              67.95              67.95              61.73   \n",
       "\n",
       "   Average of Nov-13  Average of Dec-13  Average of Jan-14  Average of Feb-14  \\\n",
       "0              45.18              37.43              31.67              33.83   \n",
       "1              42.15              33.16              26.88              28.36   \n",
       "2              61.92              55.69              60.56              60.99   \n",
       "3              65.09              60.87              64.30              60.77   \n",
       "4              58.04              53.04              58.12              55.83   \n",
       "\n",
       "   Average of Mar-14  Average of Apr-14  Average of May-14  Average of Jun-14  \\\n",
       "0              42.35              57.72              67.35              75.92   \n",
       "1              40.32              56.85              66.84              75.12   \n",
       "2              65.16              68.01              74.24              78.87   \n",
       "3              63.01              64.37              69.73              68.46   \n",
       "4              58.73              59.53              64.20              64.02   \n",
       "\n",
       "   Average of Jul-14  Average of Aug-14  Average of Sep-14  Average of Oct-14  \\\n",
       "0              74.28              79.59              70.84              62.39   \n",
       "1              72.18              77.08              67.15              58.34   \n",
       "2              84.65              82.23              81.75              74.25   \n",
       "3              73.62              73.65              75.96              71.83   \n",
       "4              68.84              68.18              67.29              67.08   \n",
       "\n",
       "   Average of Nov-14  Average of Dec-14  Average of Jan-15  Average of Feb-15  \\\n",
       "0              41.89              41.46              35.24              31.10   \n",
       "1              38.55              38.54              32.33              25.62   \n",
       "2              63.29              56.28              58.32              62.97   \n",
       "3              67.04              59.73              63.27              63.83   \n",
       "4              59.49              54.23              55.19              57.03   \n",
       "\n",
       "   Average of Mar-15  Average of Apr-15  Average of May-15  Average of Jun-15  \\\n",
       "0              45.50              60.94              68.49              77.69   \n",
       "1              43.52              58.50              66.81              75.41   \n",
       "2              67.61              67.39              68.06              80.43   \n",
       "3              67.72              64.39              62.56              69.66   \n",
       "4              63.73              60.69              58.19              65.61   \n",
       "\n",
       "   Average of Jul-15  Average of Aug-15  Average of Sep-15  Average of Oct-15  \\\n",
       "0              81.35              76.28              73.32              60.32   \n",
       "1              78.43              73.88              70.78              58.70   \n",
       "2              80.98              85.08              82.01              75.16   \n",
       "3              72.21              77.47              76.77              74.50   \n",
       "4              67.79              69.57              71.37              68.40   \n",
       "\n",
       "   Average of Nov-15  Average of Dec-15  Average of Jan-16  Average of Feb-16  \\\n",
       "0              51.00              48.37              35.76              42.89   \n",
       "1              50.50              46.71              32.36              38.76   \n",
       "2              59.59              53.24              54.54              63.52   \n",
       "3              63.48              57.98              57.69              66.53   \n",
       "4              55.45              49.49              54.15              60.98   \n",
       "\n",
       "   Average of Mar-16  Average of Apr-16  Average of May-16  Average of Jun-16  \\\n",
       "0              53.21              61.07              66.29              82.78   \n",
       "1              51.68              58.41              64.10              78.15   \n",
       "2              63.72              67.45              69.58              82.02   \n",
       "3              61.89              64.86              62.63              70.45   \n",
       "4              58.44              62.06              61.68              70.15   \n",
       "\n",
       "   Average of Jul-16  Average of Aug-16  Average of Sep-16  Average of Oct-16  \\\n",
       "0              81.52              79.52              75.61              65.76   \n",
       "1              79.70              78.33              72.80              63.84   \n",
       "2              84.83              84.06              77.85              72.50   \n",
       "3              73.09              71.94              72.26              69.56   \n",
       "4              69.49              66.71              68.10              64.41   \n",
       "\n",
       "   Average of Nov-16  Average of Dec-16  Average of Jan-17  Average of Feb-17  \\\n",
       "0              53.85              39.56              41.59              49.01   \n",
       "1              50.35              34.90              39.05              45.80   \n",
       "2              64.24              55.52              53.54              58.18   \n",
       "3              66.85              58.29              56.08              57.88   \n",
       "4              59.72              52.52              51.80              54.20   \n",
       "\n",
       "   Average of Mar-17  Average of Apr-17  Average of May-17  Average of Jun-17  \\\n",
       "0              52.28              63.40              67.11              75.78   \n",
       "1              48.45              60.77              65.89              74.46   \n",
       "2              65.45              68.51              71.13              80.71   \n",
       "3              63.84              65.03              63.90              68.95   \n",
       "4              59.36              60.44              62.41              67.57   \n",
       "\n",
       "   Average of Jul-17  Average of Aug-17  Average of Sep-17  Average of Oct-17  \\\n",
       "0              80.58              76.16              72.91              62.68   \n",
       "1              79.18              73.13              70.13              59.68   \n",
       "2              85.64              84.85              78.14              74.03   \n",
       "3              73.58              73.62              72.88              73.84   \n",
       "4              71.29              70.83              69.43              65.56   \n",
       "\n",
       "   Average of Nov-17  Average of Dec-17  Average of Jan-18  Average of Feb-18  \\\n",
       "0              49.73              39.80              31.71              41.69   \n",
       "1              46.52              35.15              28.43              40.01   \n",
       "2              65.70              59.28              60.34              57.43   \n",
       "3              68.87              66.63              63.75              59.89   \n",
       "4              59.60              54.21              57.70              53.60   \n",
       "\n",
       "   Average of Mar-18  Average of Apr-18  Average of May-18  Average of Jun-18  \\\n",
       "0              50.22              52.55              74.77              79.96   \n",
       "1              44.18              49.30              72.87              77.40   \n",
       "2              60.97              68.50              70.31              78.61   \n",
       "3              59.35              63.34              63.10              67.45   \n",
       "4              55.78              59.45              60.24              64.77   \n",
       "\n",
       "   Average of Jul-18  Average of Aug-18  Average of Sep-18  Average of Oct-18  \\\n",
       "0              81.69              78.30              74.56              59.98   \n",
       "1              77.43              75.83              72.64              58.36   \n",
       "2              87.24              85.52              80.75              70.81   \n",
       "3              75.86              75.24              71.10              68.95   \n",
       "4              69.81              70.13              68.10              65.38   \n",
       "\n",
       "   Average of Nov-18  Average of Dec-18  target        Apr      Aug  \\\n",
       "0              42.98              41.18     191  55.929144  75.0454   \n",
       "1              39.68              39.71      33  55.929144  75.0454   \n",
       "2              62.67              55.58     157  55.929144  75.0454   \n",
       "3              65.46              59.46     146  55.929144  75.0454   \n",
       "4              60.72              54.08     286  55.929144  75.0454   \n",
       "\n",
       "         Dec        Feb        Jan        Jul        Jun        Mar  \\\n",
       "0  41.901614  40.593504  37.529862  76.101177  72.747166  47.064394   \n",
       "1  41.901614  40.593504  37.529862  76.101177  72.747166  47.064394   \n",
       "2  41.901614  40.593504  37.529862  76.101177  72.747166  47.064394   \n",
       "3  41.901614  40.593504  37.529862  76.101177  72.747166  47.064394   \n",
       "4  41.901614  40.593504  37.529862  76.101177  72.747166  47.064394   \n",
       "\n",
       "         May        Nov        Oct        Sep   max_temp  type    cat  \\\n",
       "0  64.913018  48.810434  60.632756  70.706177  76.101177     1  C5091   \n",
       "1  64.913018  48.810434  60.632756  70.706177  76.101177     1  C5041   \n",
       "2  64.913018  48.810434  60.632756  70.706177  76.101177     0   1749   \n",
       "3  64.913018  48.810434  60.632756  70.706177  76.101177     1  C5091   \n",
       "4  64.913018  48.810434  60.632756  70.706177  76.101177     0   1748   \n",
       "\n",
       "     icd_race icd_state     icd_payer binned_age  bmi_recorded icd_bmi  \n",
       "0       nan-1      AR-1  COMMERCIAL-1        7-1             0     0-1  \n",
       "1     White-1      IL-1         nan-1       11-1             4     4-1  \n",
       "2       nan-0      CA-0  COMMERCIAL-0       11-0             0     0-0  \n",
       "3  Hispanic-1      CA-1    MEDICAID-1       11-1             0     0-1  \n",
       "4       nan-0      CA-0  COMMERCIAL-0       14-0             0     0-0  "
      ]
     },
     "execution_count": 16,
     "metadata": {},
     "output_type": "execute_result"
    }
   ],
   "source": [
    "temp.head()"
   ]
  },
  {
   "cell_type": "code",
   "execution_count": 17,
   "id": "a9569a41",
   "metadata": {
    "execution": {
     "iopub.execute_input": "2024-06-12T11:57:01.721195Z",
     "iopub.status.busy": "2024-06-12T11:57:01.720718Z",
     "iopub.status.idle": "2024-06-12T11:57:01.727920Z",
     "shell.execute_reply": "2024-06-12T11:57:01.726390Z"
    },
    "papermill": {
     "duration": 0.029661,
     "end_time": "2024-06-12T11:57:01.731233",
     "exception": false,
     "start_time": "2024-06-12T11:57:01.701572",
     "status": "completed"
    },
    "tags": []
   },
   "outputs": [],
   "source": [
    "# import statsmodels.api as sm\n",
    "# from statsmodels.stats.outliers_influence import variance_inflation_factor\n",
    "\n",
    "# X = cortemp[['patient_zip3', 'patient_state']]\n",
    "# X = sm.add_constant(X)\n",
    "\n",
    "# vif_data = pd.DataFrame()\n",
    "# vif_data['Feature'] = X.columns\n",
    "# vif_data['VIF'] = [variance_inflation_factor(X.values, i) for i in range(X.shape[1])]\n",
    "\n",
    "# # Remove the constant column from VIF results\n",
    "# vif_data = vif_data[vif_data[\"Feature\"] != \"const\"]\n",
    "\n",
    "# print(\"\\nVariance Inflation Factor (VIF):\")\n",
    "# print(vif_data)"
   ]
  },
  {
   "cell_type": "code",
   "execution_count": 18,
   "id": "6ad4259f",
   "metadata": {
    "execution": {
     "iopub.execute_input": "2024-06-12T11:57:01.773595Z",
     "iopub.status.busy": "2024-06-12T11:57:01.773056Z",
     "iopub.status.idle": "2024-06-12T11:57:02.294556Z",
     "shell.execute_reply": "2024-06-12T11:57:02.293165Z"
    },
    "papermill": {
     "duration": 0.544781,
     "end_time": "2024-06-12T11:57:02.297747",
     "exception": false,
     "start_time": "2024-06-12T11:57:01.752966",
     "status": "completed"
    },
    "tags": []
   },
   "outputs": [
    {
     "data": {
      "text/plain": [
       "<Axes: xlabel='icd_race', ylabel='target'>"
      ]
     },
     "execution_count": 18,
     "metadata": {},
     "output_type": "execute_result"
    },
    {
     "data": {
      "image/png": "[encoded data removed]",
      "text/plain": [
       "<Figure size 2000x500 with 1 Axes>"
      ]
     },
     "metadata": {},
     "output_type": "display_data"
    }
   ],
   "source": [
    "ax, fig = plt.subplots(figsize=(20, 5))\n",
    "sns.boxplot(data=temp, x='icd_race', y='target')"
   ]
  },
  {
   "cell_type": "code",
   "execution_count": 19,
   "id": "ab82ad34",
   "metadata": {
    "execution": {
     "iopub.execute_input": "2024-06-12T11:57:02.336304Z",
     "iopub.status.busy": "2024-06-12T11:57:02.335790Z",
     "iopub.status.idle": "2024-06-12T11:57:06.059425Z",
     "shell.execute_reply": "2024-06-12T11:57:06.058111Z"
    },
    "papermill": {
     "duration": 3.74814,
     "end_time": "2024-06-12T11:57:06.063170",
     "exception": false,
     "start_time": "2024-06-12T11:57:02.315030",
     "status": "completed"
    },
    "tags": []
   },
   "outputs": [
    {
     "data": {
      "text/plain": [
       "<Axes: xlabel='bmi', ylabel='target'>"
      ]
     },
     "execution_count": 19,
     "metadata": {},
     "output_type": "execute_result"
    },
    {
     "data": {
      "image/png": "[encoded data removed]",
      "text/plain": [
       "<Figure size 800x400 with 1 Axes>"
      ]
     },
     "metadata": {},
     "output_type": "display_data"
    }
   ],
   "source": [
    "plt.figure(figsize=(8, 4))\n",
    "sns.kdeplot(data=temp, x='bmi', y='target', hue='type')"
   ]
  },
  {
   "cell_type": "code",
   "execution_count": 20,
   "id": "f490aae7",
   "metadata": {
    "execution": {
     "iopub.execute_input": "2024-06-12T11:57:06.102189Z",
     "iopub.status.busy": "2024-06-12T11:57:06.101733Z",
     "iopub.status.idle": "2024-06-12T11:57:06.120459Z",
     "shell.execute_reply": "2024-06-12T11:57:06.119080Z"
    },
    "papermill": {
     "duration": 0.041759,
     "end_time": "2024-06-12T11:57:06.123286",
     "exception": false,
     "start_time": "2024-06-12T11:57:06.081527",
     "status": "completed"
    },
    "tags": []
   },
   "outputs": [],
   "source": [
    "def cross_val_score(estimator, cv = kf, label = '', show_importance = False, pseudolabelling = False):\n",
    "    \n",
    "    X = train.copy()\n",
    "    y = X.pop('target')\n",
    "    \n",
    "    #initiate prediction arrays and score lists\n",
    "    val_predictions = np.zeros((len(X)))\n",
    "    train_scores, val_scores= [], []\n",
    "    \n",
    "    feature_importances_table = pd.DataFrame({'value' : 0}, index = list(X.columns))\n",
    "    \n",
    "    test_predictions = np.zeros((len(test)))\n",
    "    icd = (X.breast_cancer_diagnosis_code.astype(str).str[0] == 'C').astype(np.uint8)\n",
    "    \n",
    "    #training model, predicting prognosis probability, and evaluating metrics\n",
    "    for fold, (train_idx, val_idx) in enumerate(cv.split(X, icd)):\n",
    "        \n",
    "        model = clone(estimator)\n",
    "        \n",
    "        #define train set\n",
    "        X_train = X.iloc[train_idx].reset_index(drop = True)\n",
    "        y_train = y.iloc[train_idx].reset_index(drop = True)\n",
    "        \n",
    "        #define validation set\n",
    "        X_val = X.iloc[val_idx].reset_index(drop = True)\n",
    "        y_val = y.iloc[val_idx].reset_index(drop = True)\n",
    "        \n",
    "        #train model\n",
    "        model.fit(X_train, y_train)\n",
    "        \n",
    "        if pseudolabelling:\n",
    "            pseudolabel = model.predict(X_val)\n",
    "            \n",
    "            pseudo_X = pd.concat([X_train, X_val]).reset_index(drop = True)\n",
    "            pseudo_y = pd.concat([y_train, pd.Series(pseudolabel)]).reset_index(drop = True)\n",
    "            \n",
    "            model.fit(pseudo_X, pseudo_y)\n",
    "        \n",
    "        #make predictions\n",
    "        train_preds = model.predict(X_train)\n",
    "        val_preds = model.predict(X_val)\n",
    "        val_predictions[val_idx] += val_preds.reshape(-1)\n",
    "        test_predictions += model.predict(test).reshape(-1) / cv.get_n_splits()\n",
    "        if show_importance:\n",
    "            feature_importances_table['value'] += permutation_importance(model, X_val, y_val, random_state = seed, scoring = make_scorer(rmse), n_repeats = 5).importances_mean / cv.get_n_splits()\n",
    "        \n",
    "        #evaluate model for a fold\n",
    "        train_score = rmse(y_train, train_preds)\n",
    "        val_score = rmse(y_val, val_preds)\n",
    "        \n",
    "        #append model score for a fold to list\n",
    "        train_scores.append(train_score)\n",
    "        val_scores.append(val_score)\n",
    "       \n",
    "    if show_importance:\n",
    "        plt.figure(figsize = (20, 30))\n",
    "        plt.title(f'Features with Biggest Importance of {np.mean(val_scores):.5f} ± {np.std(val_scores):.5f} Model', size = 25, weight = 'bold')\n",
    "        sns.barplot(feature_importances_table.sort_values('value', ascending = False).T, orient = 'h', palette = 'viridis')\n",
    "        plt.show()\n",
    "    else:\n",
    "        print(f'Val Score: {np.mean(val_scores):.5f} ± {np.std(val_scores):.5f} | Train Score: {np.mean(train_scores):.5f} ± {np.std(train_scores):.5f} | {label}')\n",
    "    \n",
    "    return val_scores, val_predictions, test_predictions"
   ]
  },
  {
   "cell_type": "code",
   "execution_count": 21,
   "id": "a3737d49",
   "metadata": {
    "execution": {
     "iopub.execute_input": "2024-06-12T11:57:06.162228Z",
     "iopub.status.busy": "2024-06-12T11:57:06.161712Z",
     "iopub.status.idle": "2024-06-12T11:57:06.169626Z",
     "shell.execute_reply": "2024-06-12T11:57:06.168409Z"
    },
    "papermill": {
     "duration": 0.03074,
     "end_time": "2024-06-12T11:57:06.172313",
     "exception": false,
     "start_time": "2024-06-12T11:57:06.141573",
     "status": "completed"
    },
    "tags": []
   },
   "outputs": [],
   "source": [
    "score_list, oof_list, predict_list = pd.DataFrame(), pd.DataFrame(), pd.DataFrame()"
   ]
  },
  {
   "cell_type": "markdown",
   "id": "94640f94",
   "metadata": {
    "papermill": {
     "duration": 0.018161,
     "end_time": "2024-06-12T11:57:06.300925",
     "exception": false,
     "start_time": "2024-06-12T11:57:06.282764",
     "status": "completed"
    },
    "tags": []
   },
   "source": [
    "### Ridge Regressor"
   ]
  },
  {
   "cell_type": "code",
   "execution_count": 22,
   "id": "305cb89a",
   "metadata": {
    "execution": {
     "iopub.execute_input": "2024-06-12T11:57:06.345801Z",
     "iopub.status.busy": "2024-06-12T11:57:06.345238Z",
     "iopub.status.idle": "2024-06-12T11:57:44.352821Z",
     "shell.execute_reply": "2024-06-12T11:57:44.342525Z"
    },
    "papermill": {
     "duration": 38.062206,
     "end_time": "2024-06-12T11:57:44.383177",
     "exception": false,
     "start_time": "2024-06-12T11:57:06.320971",
     "status": "completed"
    },
    "tags": []
   },
   "outputs": [
    {
     "name": "stdout",
     "output_type": "stream",
     "text": [
      "Val Score: 82.86010 ± 1.38893 | Train Score: 81.68446 ± 0.34570 | \n"
     ]
    }
   ],
   "source": [
    "Ridger = make_pipeline(\n",
    "    pre,\n",
    "    MEstimateEncoder(cols = ['patient_gender', 'payer_type', 'breast_cancer_diagnosis_code', 'breast_cancer_diagnosis_desc', 'metastatic_cancer_diagnosis_code','metastatic_first_novel_treatment', 'metastatic_first_novel_treatment_type', 'icd_state', 'icd_payer', 'icd_race', 'icd_bmi']),\n",
    "    MEstimateEncoder(cols = ['patient_race', 'patient_state', 'Region', 'Division', 'cat', 'binned_age']),\n",
    "    CatBoostEncoder(cols = ['patient_zip3']),\n",
    "    SimpleImputer(),\n",
    "    FeatureSelector(['type', 'binned_age', 'breast_cancer_diagnosis_code', 'icd_bmi', 'Division', 'patient_zip3', 'home_ownership', 'family_size', 'self_employed', 'income_individual_median', 'labor_force_participation', 'metastatic_cancer_diagnosis_code', 'breast_cancer_diagnosis_desc', 'icd_race', 'icd_payer', 'icd_state', 'patient_age']),\n",
    "    Ridge()\n",
    ")\n",
    "\n",
    "_, oof_list['Ridge'], predict_list['Ridge'] = cross_val_score(Ridger)"
   ]
  },
  {
   "cell_type": "markdown",
   "id": "1bee79d1",
   "metadata": {
    "papermill": {
     "duration": 0.032467,
     "end_time": "2024-06-12T11:57:44.448354",
     "exception": false,
     "start_time": "2024-06-12T11:57:44.415887",
     "status": "completed"
    },
    "tags": []
   },
   "source": [
    "### K-Nearest Neighbors Regressor"
   ]
  },
  {
   "cell_type": "code",
   "execution_count": 23,
   "id": "6897e4f7",
   "metadata": {
    "execution": {
     "iopub.execute_input": "2024-06-12T11:57:44.488549Z",
     "iopub.status.busy": "2024-06-12T11:57:44.488067Z",
     "iopub.status.idle": "2024-06-12T11:58:33.851034Z",
     "shell.execute_reply": "2024-06-12T11:58:33.849837Z"
    },
    "papermill": {
     "duration": 49.405295,
     "end_time": "2024-06-12T11:58:33.872870",
     "exception": false,
     "start_time": "2024-06-12T11:57:44.467575",
     "status": "completed"
    },
    "tags": []
   },
   "outputs": [
    {
     "name": "stdout",
     "output_type": "stream",
     "text": [
      "Val Score: 82.90680 ± 1.35815 | Train Score: 80.88505 ± 0.32714 | \n"
     ]
    }
   ],
   "source": [
    "KNN = make_pipeline(\n",
    "    CustomImputer(),\n",
    "    pre,\n",
    "    MEstimateEncoder(cols = ['patient_gender','cat', 'icd_bmi', 'icd_race', 'icd_state', 'icd_payer', 'payer_type', 'breast_cancer_diagnosis_code', 'breast_cancer_diagnosis_desc', 'metastatic_cancer_diagnosis_code', 'type']),\n",
    "    MEstimateEncoder(cols = ['patient_race', 'patient_state', 'Region', 'Division', 'binned_age']),\n",
    "    FeatureSelector(['type', 'patient_zip3', 'binned_age', 'breast_cancer_diagnosis_code', 'icd_bmi', 'icd_race', 'icd_state', 'icd_payer',\n",
    "         'metastatic_cancer_diagnosis_code', 'breast_cancer_diagnosis_desc']),\n",
    "    SimpleImputer(),\n",
    "    StandardScaler(),\n",
    "    KNeighborsRegressor(50)\n",
    ")\n",
    "\n",
    "_, oof_list['KNN'], predict_list['KNN'] = cross_val_score(KNN)"
   ]
  },
  {
   "cell_type": "markdown",
   "id": "235abffd",
   "metadata": {
    "papermill": {
     "duration": 0.020121,
     "end_time": "2024-06-12T11:58:33.911940",
     "exception": false,
     "start_time": "2024-06-12T11:58:33.891819",
     "status": "completed"
    },
    "tags": []
   },
   "source": [
    "### Random Forest Regressor"
   ]
  },
  {
   "cell_type": "code",
   "execution_count": 24,
   "id": "a8b71c41",
   "metadata": {
    "execution": {
     "iopub.execute_input": "2024-06-12T11:58:33.954010Z",
     "iopub.status.busy": "2024-06-12T11:58:33.953499Z",
     "iopub.status.idle": "2024-06-12T11:59:25.037124Z",
     "shell.execute_reply": "2024-06-12T11:59:25.035579Z"
    },
    "papermill": {
     "duration": 51.129171,
     "end_time": "2024-06-12T11:59:25.060537",
     "exception": false,
     "start_time": "2024-06-12T11:58:33.931366",
     "status": "completed"
    },
    "tags": []
   },
   "outputs": [
    {
     "name": "stdout",
     "output_type": "stream",
     "text": [
      "Val Score: 82.39347 ± 1.35207 | Train Score: 80.42945 ± 0.32532 | \n"
     ]
    }
   ],
   "source": [
    "RF = make_pipeline(\n",
    "    CustomImputer(),\n",
    "    pre,\n",
    "    MEstimateEncoder(cols = ['cat', 'icd_bmi', 'icd_race', 'icd_state', 'icd_payer', 'binned_age', 'breast_cancer_diagnosis_code', 'breast_cancer_diagnosis_desc', 'metastatic_cancer_diagnosis_code']),\n",
    "    MEstimateEncoder(cols = ['patient_race', 'patient_state', 'Region', 'Division'], handle_missing = 'return_nan'),\n",
    "    FeatureSelector(['type', 'binned_age', 'breast_cancer_diagnosis_code', 'icd_bmi', 'disabled',\n",
    "         'metastatic_cancer_diagnosis_code', 'breast_cancer_diagnosis_desc', 'icd_race', 'icd_payer', 'icd_state', 'patient_age']),\n",
    "    SimpleImputer(),\n",
    "    RandomForestRegressor(random_state = seed, criterion = 'squared_error', max_depth=5)\n",
    ")\n",
    "\n",
    "_, oof_list['RF'], predict_list['RF'] = cross_val_score(RF)"
   ]
  },
  {
   "cell_type": "markdown",
   "id": "5fec7d73",
   "metadata": {
    "papermill": {
     "duration": 0.020772,
     "end_time": "2024-06-12T11:59:25.100454",
     "exception": false,
     "start_time": "2024-06-12T11:59:25.079682",
     "status": "completed"
    },
    "tags": []
   },
   "source": [
    "### Extra Trees Regressor"
   ]
  },
  {
   "cell_type": "code",
   "execution_count": 25,
   "id": "9cce6267",
   "metadata": {
    "execution": {
     "iopub.execute_input": "2024-06-12T11:59:25.144895Z",
     "iopub.status.busy": "2024-06-12T11:59:25.144365Z",
     "iopub.status.idle": "2024-06-12T12:00:12.844149Z",
     "shell.execute_reply": "2024-06-12T12:00:12.842694Z"
    },
    "papermill": {
     "duration": 47.74425,
     "end_time": "2024-06-12T12:00:12.866409",
     "exception": false,
     "start_time": "2024-06-12T11:59:25.122159",
     "status": "completed"
    },
    "tags": []
   },
   "outputs": [
    {
     "name": "stdout",
     "output_type": "stream",
     "text": [
      "Val Score: 82.55824 ± 1.41410 | Train Score: 81.30609 ± 0.31893 | \n"
     ]
    }
   ],
   "source": [
    "ET = make_pipeline(\n",
    "    CustomImputer(),\n",
    "    pre,\n",
    "    MEstimateEncoder(cols = ['cat', 'binned_age', 'icd_bmi', 'icd_race', 'icd_state', 'icd_payer', 'payer_type', 'breast_cancer_diagnosis_code', 'breast_cancer_diagnosis_desc', 'metastatic_cancer_diagnosis_code', 'metastatic_first_novel_treatment', 'metastatic_first_novel_treatment_type']),\n",
    "    MEstimateEncoder(cols = ['patient_race', 'patient_state', 'Region', 'Division'], handle_missing = 'return_nan'),\n",
    "    FeatureSelector(['type', 'binned_age', 'breast_cancer_diagnosis_code', 'icd_bmi', 'disabled',\n",
    "         'metastatic_cancer_diagnosis_code', 'breast_cancer_diagnosis_desc', 'icd_race', 'icd_payer', 'icd_state', 'patient_age']),\n",
    "    SimpleImputer(),\n",
    "    ExtraTreesRegressor(random_state = seed, max_depth=5)\n",
    ")\n",
    "\n",
    "_, oof_list['ET'], predict_list['ET'] = cross_val_score(ET)"
   ]
  },
  {
   "cell_type": "markdown",
   "id": "7cb40581",
   "metadata": {
    "papermill": {
     "duration": 0.019025,
     "end_time": "2024-06-12T12:00:12.904278",
     "exception": false,
     "start_time": "2024-06-12T12:00:12.885253",
     "status": "completed"
    },
    "tags": []
   },
   "source": [
    "### Gradient Boosting Regressor"
   ]
  },
  {
   "cell_type": "code",
   "execution_count": 26,
   "id": "937d84bb",
   "metadata": {
    "execution": {
     "iopub.execute_input": "2024-06-12T12:00:12.944108Z",
     "iopub.status.busy": "2024-06-12T12:00:12.943636Z",
     "iopub.status.idle": "2024-06-12T12:00:12.953890Z",
     "shell.execute_reply": "2024-06-12T12:00:12.952571Z"
    },
    "papermill": {
     "duration": 0.033324,
     "end_time": "2024-06-12T12:00:12.956409",
     "exception": false,
     "start_time": "2024-06-12T12:00:12.923085",
     "status": "completed"
    },
    "tags": []
   },
   "outputs": [],
   "source": [
    "def gb_objective(trial):\n",
    "    params = {\n",
    "        'learning_rate': trial.suggest_float('learning_rate', .001, .1, log=True),\n",
    "        'max_depth': trial.suggest_int('max_depth', 2, 20),\n",
    "        'subsample': trial.suggest_float('subsample', .1, 1),\n",
    "        'min_samples_split': trial.suggest_int('min_samples_split', 2, 50),\n",
    "        'min_samples_leaf': trial.suggest_int('min_samples_leaf', 2, 50),\n",
    "        # No need for n_estimators as you've already set it to a fixed value\n",
    "        'random_state': seed,\n",
    "    }\n",
    "    \n",
    "    optuna_model = make_pipeline(\n",
    "        CustomImputer(),\n",
    "        pre,\n",
    "        MEstimateEncoder(cols = ['cat', 'binned_age', 'icd_bmi', 'icd_race', 'icd_state', 'icd_payer', 'payer_type', 'breast_cancer_diagnosis_code', 'breast_cancer_diagnosis_desc', 'metastatic_cancer_diagnosis_code', 'metastatic_first_novel_treatment', 'metastatic_first_novel_treatment_type']),\n",
    "        MEstimateEncoder(cols = ['patient_race', 'patient_state', 'Region', 'Division'], handle_missing = 'return_nan'),\n",
    "        FeatureSelector(['binned_age', 'breast_cancer_diagnosis_code', 'patient_age', 'race_other',\n",
    "         'metastatic_cancer_diagnosis_code', 'icd_payer', 'icd_state', 'patient_race']),\n",
    "        SimpleImputer(),\n",
    "        GradientBoostingRegressor(**params)\n",
    "    )\n",
    "    \n",
    "    optuna_score, _, _ = cross_val_score(optuna_model)\n",
    "    \n",
    "    return np.mean(optuna_score)\n",
    "\n",
    "gb_study = optuna.create_study(direction = 'minimize')"
   ]
  },
  {
   "cell_type": "code",
   "execution_count": 27,
   "id": "b3d63a1b",
   "metadata": {
    "execution": {
     "iopub.execute_input": "2024-06-12T12:00:12.997678Z",
     "iopub.status.busy": "2024-06-12T12:00:12.996519Z",
     "iopub.status.idle": "2024-06-12T12:00:13.001844Z",
     "shell.execute_reply": "2024-06-12T12:00:13.000614Z"
    },
    "papermill": {
     "duration": 0.028629,
     "end_time": "2024-06-12T12:00:13.004572",
     "exception": false,
     "start_time": "2024-06-12T12:00:12.975943",
     "status": "completed"
    },
    "tags": []
   },
   "outputs": [],
   "source": [
    "# gb_study.optimize(gb_objective, 200)\n",
    "# best_trial = gb_study.best_trial\n",
    "# gb_params = best_trial.params\n",
    "# print(gb_params)"
   ]
  },
  {
   "cell_type": "code",
   "execution_count": 28,
   "id": "5aa6274d",
   "metadata": {
    "execution": {
     "iopub.execute_input": "2024-06-12T12:00:13.044949Z",
     "iopub.status.busy": "2024-06-12T12:00:13.044403Z",
     "iopub.status.idle": "2024-06-12T12:01:04.038766Z",
     "shell.execute_reply": "2024-06-12T12:01:04.036941Z"
    },
    "papermill": {
     "duration": 51.037704,
     "end_time": "2024-06-12T12:01:04.061574",
     "exception": false,
     "start_time": "2024-06-12T12:00:13.023870",
     "status": "completed"
    },
    "tags": []
   },
   "outputs": [
    {
     "name": "stdout",
     "output_type": "stream",
     "text": [
      "Val Score: 82.20076 ± 1.13896 | Train Score: 79.54039 ± 0.25306 | \n"
     ]
    }
   ],
   "source": [
    "# gb_params = {'learning_rate': 0.07857513446098478, 'max_depth': 3, 'subsample': 0.8612129212105573, 'min_samples_split': 39, 'min_samples_leaf': 18}   # 81.30669\n",
    "gb_params = {'learning_rate': 0.025090170338381984, 'max_depth': 5, 'subsample': 0.8806789021834932, 'min_samples_split': 49, 'min_samples_leaf': 24}\n",
    "\n",
    "GB = make_pipeline(\n",
    "    CustomImputer(),\n",
    "    pre,\n",
    "    MEstimateEncoder(cols = ['cat', 'binned_age', 'icd_bmi', 'icd_race', 'icd_state', 'icd_payer','patient_gender', 'payer_type', 'breast_cancer_diagnosis_code', 'breast_cancer_diagnosis_desc', 'metastatic_cancer_diagnosis_code']),\n",
    "    MEstimateEncoder(cols = ['patient_race', 'patient_state', 'Region', 'Division'], handle_missing = 'return_nan'),\n",
    "    FeatureSelector(['binned_age', 'breast_cancer_diagnosis_code', 'patient_age', 'race_other',\n",
    "         'metastatic_cancer_diagnosis_code', 'icd_payer', 'icd_state', 'patient_race']),\n",
    "    SimpleImputer(),\n",
    "    GradientBoostingRegressor(random_state = seed)\n",
    ")\n",
    "\n",
    "_, oof_list['GB'], predict_list['GB'] = cross_val_score(GB)"
   ]
  },
  {
   "cell_type": "markdown",
   "id": "76b680cb",
   "metadata": {
    "papermill": {
     "duration": 0.020922,
     "end_time": "2024-06-12T12:01:04.105391",
     "exception": false,
     "start_time": "2024-06-12T12:01:04.084469",
     "status": "completed"
    },
    "tags": []
   },
   "source": [
    "### Hist Gradient Boosting"
   ]
  },
  {
   "cell_type": "code",
   "execution_count": 29,
   "id": "c81bceeb",
   "metadata": {
    "execution": {
     "iopub.execute_input": "2024-06-12T12:01:04.151707Z",
     "iopub.status.busy": "2024-06-12T12:01:04.151187Z",
     "iopub.status.idle": "2024-06-12T12:01:04.163422Z",
     "shell.execute_reply": "2024-06-12T12:01:04.162061Z"
    },
    "papermill": {
     "duration": 0.03811,
     "end_time": "2024-06-12T12:01:04.166676",
     "exception": false,
     "start_time": "2024-06-12T12:01:04.128566",
     "status": "completed"
    },
    "tags": []
   },
   "outputs": [],
   "source": [
    "def hgb_objective(trial):\n",
    "    params = {\n",
    "        'learning_rate': trial.suggest_float('learning_rate', .001, .1, log=True),\n",
    "        'max_depth': trial.suggest_int('max_depth', 2, 20),\n",
    "        # Use max_leaf_nodes instead of max_leaf_nodes (one typo)\n",
    "        'max_leaf_nodes': trial.suggest_int('max_leaf_nodes', 2, 50),\n",
    "        'min_samples_leaf': trial.suggest_int('min_samples_leaf', 5, 50),\n",
    "        'l2_regularization': trial.suggest_float('l2_regularization', .1, 20, log=True),\n",
    "        # Use max_iter instead of max_iter (one typo)\n",
    "        'max_iter': trial.suggest_int('max_iter', 100, 1000),  # Adjust range for HistGradientBoostingRegressor\n",
    "        'random_state': seed,\n",
    "    }\n",
    "\n",
    "    \n",
    "    optuna_model = make_pipeline(\n",
    "        pre,\n",
    "        MEstimateEncoder(cols = ['cat', 'binned_age', 'icd_bmi', 'icd_race', 'icd_state', 'icd_payer', 'payer_type', 'breast_cancer_diagnosis_code', 'breast_cancer_diagnosis_desc', 'metastatic_cancer_diagnosis_code', 'metastatic_first_novel_treatment', 'metastatic_first_novel_treatment_type']),\n",
    "        MEstimateEncoder(cols = ['patient_race', 'patient_state', 'Region', 'Division'], handle_missing = 'return_nan'),\n",
    "        FeatureSelector(['type', 'binned_age', 'breast_cancer_diagnosis_code', 'icd_bmi', 'Division',\n",
    "         'metastatic_cancer_diagnosis_code', 'breast_cancer_diagnosis_desc', 'icd_race', 'icd_payer', 'icd_state', 'patient_age']),\n",
    "        SimpleImputer(),\n",
    "        HistGradientBoostingRegressor(**params)\n",
    "    )\n",
    "    \n",
    "    optuna_score, _, _ = cross_val_score(optuna_model)\n",
    "    \n",
    "    return np.mean(optuna_score)\n",
    "\n",
    "hgb_study = optuna.create_study(direction = 'minimize')"
   ]
  },
  {
   "cell_type": "code",
   "execution_count": 30,
   "id": "1147764a",
   "metadata": {
    "execution": {
     "iopub.execute_input": "2024-06-12T12:01:04.210658Z",
     "iopub.status.busy": "2024-06-12T12:01:04.210132Z",
     "iopub.status.idle": "2024-06-12T12:01:04.216065Z",
     "shell.execute_reply": "2024-06-12T12:01:04.214658Z"
    },
    "papermill": {
     "duration": 0.031086,
     "end_time": "2024-06-12T12:01:04.218933",
     "exception": false,
     "start_time": "2024-06-12T12:01:04.187847",
     "status": "completed"
    },
    "tags": []
   },
   "outputs": [],
   "source": [
    "# hgb_study.optimize(hgb_objective, 200)\n",
    "# best_trial = hgb_study.best_trial\n",
    "# hgb_params = best_trial.params"
   ]
  },
  {
   "cell_type": "code",
   "execution_count": 31,
   "id": "1924e2af",
   "metadata": {
    "execution": {
     "iopub.execute_input": "2024-06-12T12:01:04.261255Z",
     "iopub.status.busy": "2024-06-12T12:01:04.260765Z",
     "iopub.status.idle": "2024-06-12T12:01:53.256115Z",
     "shell.execute_reply": "2024-06-12T12:01:53.254202Z"
    },
    "papermill": {
     "duration": 49.040197,
     "end_time": "2024-06-12T12:01:53.278336",
     "exception": false,
     "start_time": "2024-06-12T12:01:04.238139",
     "status": "completed"
    },
    "tags": []
   },
   "outputs": [
    {
     "name": "stdout",
     "output_type": "stream",
     "text": [
      "Val Score: 82.07156 ± 1.26931 | Train Score: 79.94839 ± 0.42408 | \n"
     ]
    }
   ],
   "source": [
    "hgb_params = {'learning_rate': 0.025227604412897862, 'max_depth': 7, 'max_leaf_nodes': 10, 'min_samples_leaf': 22, 'l2_regularization': 0.5276606374400471, 'max_iter': 893} # 82.0715\n",
    "# hgb_params = {'learning_rate': 0.03840967923611026, 'max_depth': 15, 'max_leaf_nodes': 17, 'min_samples_leaf': 27, 'l2_regularization': 0.10001251956553192, 'max_iter': 886}\n",
    "\n",
    "HGB = make_pipeline(\n",
    "    #MEstimateEncoder(cols = ['patient_gender', 'payer_type', 'breast_cancer_diagnosis_code', 'breast_cancer_diagnosis_desc', 'metastatic_cancer_diagnosis_code', 'metastatic_first_novel_treatment', 'metastatic_first_novel_treatment_type']),\n",
    "    #MEstimateEncoder(cols = ['patient_race', 'patient_state', 'Region', 'Division'], handle_missing = 'return_nan'),\n",
    "    CustomImputer(),\n",
    "    pre,\n",
    "    MEstimateEncoder(cols = ['binned_age', 'icd_bmi', 'icd_race', 'icd_state', 'icd_payer', 'payer_type', 'breast_cancer_diagnosis_code', 'breast_cancer_diagnosis_desc', 'metastatic_cancer_diagnosis_code', 'metastatic_first_novel_treatment', 'metastatic_first_novel_treatment_type']),\n",
    "    MEstimateEncoder(cols = ['patient_race', 'patient_state', 'Region', 'Division'], handle_missing = 'return_nan'),\n",
    "    FeatureSelector(['type', 'binned_age', 'breast_cancer_diagnosis_code', 'icd_bmi', 'disabled',\n",
    "         'metastatic_cancer_diagnosis_code', 'breast_cancer_diagnosis_desc', 'icd_race', 'icd_payer', 'icd_state', 'patient_age']),\n",
    "    SimpleImputer(),\n",
    "    HistGradientBoostingRegressor(**hgb_params, random_state = seed)\n",
    ")\n",
    "\n",
    "_, oof_list['HGB'], predict_list['HGB'] = cross_val_score(HGB)"
   ]
  },
  {
   "cell_type": "markdown",
   "id": "3b6f485b",
   "metadata": {
    "papermill": {
     "duration": 0.021227,
     "end_time": "2024-06-12T12:01:53.319312",
     "exception": false,
     "start_time": "2024-06-12T12:01:53.298085",
     "status": "completed"
    },
    "tags": []
   },
   "source": [
    "### XGBoost"
   ]
  },
  {
   "cell_type": "code",
   "execution_count": 32,
   "id": "46feaa85",
   "metadata": {
    "execution": {
     "iopub.execute_input": "2024-06-12T12:01:53.365174Z",
     "iopub.status.busy": "2024-06-12T12:01:53.364618Z",
     "iopub.status.idle": "2024-06-12T12:01:53.376820Z",
     "shell.execute_reply": "2024-06-12T12:01:53.375301Z"
    },
    "papermill": {
     "duration": 0.038856,
     "end_time": "2024-06-12T12:01:53.379905",
     "exception": false,
     "start_time": "2024-06-12T12:01:53.341049",
     "status": "completed"
    },
    "tags": []
   },
   "outputs": [],
   "source": [
    "def xgb_objective(trial):\n",
    "    params = {\n",
    "        'eta' : trial.suggest_float('eta', .001, .3, log = True),\n",
    "        'max_depth' : trial.suggest_int('max_depth', 2, 30),\n",
    "        'subsample' : trial.suggest_float('subsample', .5, 1),\n",
    "        'colsample_bytree' : trial.suggest_float('colsample_bytree', .1, 1),\n",
    "        'min_child_weight' : trial.suggest_float('min_child_weight', .1, 20, log = True),\n",
    "        'reg_lambda' : trial.suggest_float('reg_lambda', .01, 20, log = True),\n",
    "        'reg_alpha' : trial.suggest_float('reg_alpha', .01, 10, log = True),\n",
    "        'n_estimators' : 750,\n",
    "        'random_state' : seed,\n",
    "        'tree_method' : 'hist',\n",
    "    }\n",
    "    \n",
    "    optuna_model = make_pipeline(\n",
    "        pre,\n",
    "        MEstimateEncoder(cols = ['type', 'binned_age', 'icd_bmi', 'icd_race', 'icd_state', 'icd_payer', 'payer_type', 'breast_cancer_diagnosis_code', 'breast_cancer_diagnosis_desc', 'metastatic_cancer_diagnosis_code']),\n",
    "        MEstimateEncoder(cols = ['patient_race', 'patient_state', 'Region', 'Division'], handle_missing = 'return_nan'),\n",
    "        FeatureSelector(['type', 'binned_age', 'breast_cancer_diagnosis_code', 'icd_bmi', 'disabled',\n",
    "         'metastatic_cancer_diagnosis_code', 'breast_cancer_diagnosis_desc', 'icd_race', 'icd_payer', 'icd_state', 'patient_age']),\n",
    "        XGBRegressor(**params)\n",
    "    )\n",
    "    \n",
    "    optuna_score, _, _ = cross_val_score(optuna_model)\n",
    "    \n",
    "    return np.mean(optuna_score)\n",
    "\n",
    "xgb_study = optuna.create_study(direction = 'minimize')"
   ]
  },
  {
   "cell_type": "code",
   "execution_count": 33,
   "id": "6f709b4a",
   "metadata": {
    "execution": {
     "iopub.execute_input": "2024-06-12T12:01:53.425246Z",
     "iopub.status.busy": "2024-06-12T12:01:53.424711Z",
     "iopub.status.idle": "2024-06-12T12:01:53.431310Z",
     "shell.execute_reply": "2024-06-12T12:01:53.429534Z"
    },
    "papermill": {
     "duration": 0.033275,
     "end_time": "2024-06-12T12:01:53.434889",
     "exception": false,
     "start_time": "2024-06-12T12:01:53.401614",
     "status": "completed"
    },
    "tags": []
   },
   "outputs": [],
   "source": [
    "# xgb_study.optimize(xgb_objective, 200)\n",
    "# best_trial = xgb_study.best_trial\n",
    "# xgb_params = best_trial.params\n",
    "# print(xgb_params)"
   ]
  },
  {
   "cell_type": "code",
   "execution_count": 34,
   "id": "e0d10887",
   "metadata": {
    "execution": {
     "iopub.execute_input": "2024-06-12T12:01:53.481086Z",
     "iopub.status.busy": "2024-06-12T12:01:53.480551Z",
     "iopub.status.idle": "2024-06-12T12:02:45.781800Z",
     "shell.execute_reply": "2024-06-12T12:02:45.780450Z"
    },
    "papermill": {
     "duration": 52.345639,
     "end_time": "2024-06-12T12:02:45.803175",
     "exception": false,
     "start_time": "2024-06-12T12:01:53.457536",
     "status": "completed"
    },
    "tags": []
   },
   "outputs": [
    {
     "name": "stdout",
     "output_type": "stream",
     "text": [
      "Val Score: 81.97166 ± 1.33767 | Train Score: 77.32642 ± 0.34335 | \n"
     ]
    }
   ],
   "source": [
    "# xgb_params = {'eta': 0.008543238981863092, 'max_depth': 8, 'subsample': 0.7552163746659539, 'colsample_bytree': 0.2691660952772145, 'min_child_weight': 2.7951150047377378, 'reg_lambda': 13.521555600810693, 'reg_alpha': 0.183558918808466} #81.99\n",
    "xgb_params = {'eta': 0.006284707407493742, 'max_depth': 8, 'subsample': 0.9997486987847032, 'colsample_bytree': 0.30007422580910137, 'min_child_weight': 1.1681683067613406, 'reg_lambda': 17.426277615776215, 'reg_alpha': 0.03799049645363269}\n",
    "\n",
    "XGB = make_pipeline(\n",
    "    CustomImputer(),\n",
    "    pre,\n",
    "    MEstimateEncoder(cols = ['type', 'binned_age', 'Division', 'icd_bmi', 'icd_race', 'icd_state', 'icd_payer', 'payer_type', 'breast_cancer_diagnosis_code', 'breast_cancer_diagnosis_desc', 'metastatic_cancer_diagnosis_code']),\n",
    "    FeatureSelector(cols = ['type', 'binned_age', 'breast_cancer_diagnosis_code', 'icd_bmi', 'disabled',\n",
    "         'metastatic_cancer_diagnosis_code', 'breast_cancer_diagnosis_desc', 'icd_race', 'icd_payer', 'icd_state', 'patient_age']),\n",
    "    XGBRegressor(**xgb_params, random_state = seed, n_estimators = 750, tree_method = 'hist')\n",
    ")\n",
    "\n",
    "_, oof_list['XGB'], predict_list['XGB'] = cross_val_score(XGB, show_importance = False)"
   ]
  },
  {
   "cell_type": "markdown",
   "id": "24ea1f25",
   "metadata": {
    "papermill": {
     "duration": 0.018643,
     "end_time": "2024-06-12T12:02:45.841247",
     "exception": false,
     "start_time": "2024-06-12T12:02:45.822604",
     "status": "completed"
    },
    "tags": []
   },
   "source": [
    "### LGBM Regressor"
   ]
  },
  {
   "cell_type": "code",
   "execution_count": 35,
   "id": "ede450ca",
   "metadata": {
    "execution": {
     "iopub.execute_input": "2024-06-12T12:02:45.882231Z",
     "iopub.status.busy": "2024-06-12T12:02:45.881727Z",
     "iopub.status.idle": "2024-06-12T12:02:45.893712Z",
     "shell.execute_reply": "2024-06-12T12:02:45.892205Z"
    },
    "papermill": {
     "duration": 0.036238,
     "end_time": "2024-06-12T12:02:45.896842",
     "exception": false,
     "start_time": "2024-06-12T12:02:45.860604",
     "status": "completed"
    },
    "tags": []
   },
   "outputs": [],
   "source": [
    "def lgb_objective(trial):\n",
    "    params = {\n",
    "        'learning_rate' : trial.suggest_float('learning_rate', .001, .1, log = True),\n",
    "        'max_depth' : trial.suggest_int('max_depth', 2, 20),\n",
    "        'subsample' : trial.suggest_float('subsample', .5, 1),\n",
    "        'min_child_weight' : trial.suggest_float('min_child_weight', .1, 15, log = True),\n",
    "        'reg_lambda' : trial.suggest_float('reg_lambda', .1, 20, log = True),\n",
    "        'reg_alpha' : trial.suggest_float('reg_alpha', .1, 10, log = True),\n",
    "        'n_estimators' : 600,\n",
    "        'random_state' : seed,\n",
    "        'boosting_type' : 'dart',\n",
    "        'verbosity': -1,\n",
    "        'device': 'gpu'\n",
    "    }\n",
    "    \n",
    "    optuna_model = make_pipeline(\n",
    "        pre,\n",
    "        MEstimateEncoder(cols = ['cat', 'binned_age', 'icd_bmi', 'icd_race', 'icd_state', 'icd_payer','patient_gender', 'payer_type', 'breast_cancer_diagnosis_code', 'breast_cancer_diagnosis_desc', 'metastatic_cancer_diagnosis_code']),\n",
    "        MEstimateEncoder(cols = ['patient_race', 'patient_state', 'Region', 'Division'], handle_missing = 'return_nan'),\n",
    "        FeatureSelector(['type', 'binned_age', 'breast_cancer_diagnosis_code', 'icd_bmi', 'Division',\n",
    "         'metastatic_cancer_diagnosis_code', 'breast_cancer_diagnosis_desc', 'icd_race', 'icd_payer', 'icd_state', 'patient_age']),\n",
    "        LGBMRegressor(**params)\n",
    "    )\n",
    "    \n",
    "    optuna_score, _, _ = cross_val_score(optuna_model)\n",
    "    \n",
    "    return np.mean(optuna_score)\n",
    "\n",
    "lgb_study = optuna.create_study(direction = 'minimize')"
   ]
  },
  {
   "cell_type": "code",
   "execution_count": 36,
   "id": "d4680722",
   "metadata": {
    "execution": {
     "iopub.execute_input": "2024-06-12T12:02:45.939774Z",
     "iopub.status.busy": "2024-06-12T12:02:45.938392Z",
     "iopub.status.idle": "2024-06-12T12:02:45.945082Z",
     "shell.execute_reply": "2024-06-12T12:02:45.943809Z"
    },
    "papermill": {
     "duration": 0.031494,
     "end_time": "2024-06-12T12:02:45.948188",
     "exception": false,
     "start_time": "2024-06-12T12:02:45.916694",
     "status": "completed"
    },
    "tags": []
   },
   "outputs": [],
   "source": [
    "# lgb_study.optimize(lgb_objective, 200)"
   ]
  },
  {
   "cell_type": "code",
   "execution_count": 37,
   "id": "860d3d65",
   "metadata": {
    "execution": {
     "iopub.execute_input": "2024-06-12T12:02:45.991642Z",
     "iopub.status.busy": "2024-06-12T12:02:45.991100Z",
     "iopub.status.idle": "2024-06-12T12:03:32.222155Z",
     "shell.execute_reply": "2024-06-12T12:03:32.220663Z"
    },
    "papermill": {
     "duration": 46.277174,
     "end_time": "2024-06-12T12:03:32.245566",
     "exception": false,
     "start_time": "2024-06-12T12:02:45.968392",
     "status": "completed"
    },
    "tags": []
   },
   "outputs": [
    {
     "name": "stdout",
     "output_type": "stream",
     "text": [
      "Val Score: 82.21215 ± 1.25163 | Train Score: 80.15833 ± 0.22751 | \n"
     ]
    }
   ],
   "source": [
    "# lgb_params = {'learning_rate': 0.08359446088473024, 'max_depth': 3, 'subsample': 0.8074313150933488, 'min_child_weight': 0.11814074951268909, 'reg_lambda': 7.854058970221475, 'reg_alpha': 0.2100734512461467} #82.73\n",
    "lgb_params = {'learning_rate': 0.07921975278851727, 'max_depth': 3, 'subsample': 0.9021811925535176, 'min_child_weight': 4.3363132208862964, 'reg_lambda': 0.18934163749780367, 'reg_alpha': 2.4403844347714725}\n",
    "\n",
    "LGB = make_pipeline(\n",
    "    CustomImputer(),\n",
    "    pre,\n",
    "    MEstimateEncoder(cols = ['cat', 'binned_age', 'icd_bmi', 'icd_race', 'icd_state', 'icd_payer','patient_gender', 'payer_type', 'breast_cancer_diagnosis_code', 'breast_cancer_diagnosis_desc', 'metastatic_cancer_diagnosis_code']),\n",
    "    MEstimateEncoder(cols = ['patient_race', 'patient_state', 'Region', 'Division'], handle_missing = 'return_nan'),\n",
    "    FeatureSelector(['breast_cancer_diagnosis_code', 'family_size', 'patient_age', 'disabled',\n",
    "         'metastatic_cancer_diagnosis_code','icd_state']),\n",
    "    LGBMRegressor(**lgb_params, random_state = seed, verbose=-1)\n",
    ")\n",
    "\n",
    "_, oof_list['LGB'], predict_list['LGB'] = cross_val_score(LGB, show_importance = False)"
   ]
  },
  {
   "cell_type": "markdown",
   "id": "4bd5f09c",
   "metadata": {
    "papermill": {
     "duration": 0.018983,
     "end_time": "2024-06-12T12:03:32.284382",
     "exception": false,
     "start_time": "2024-06-12T12:03:32.265399",
     "status": "completed"
    },
    "tags": []
   },
   "source": [
    "### LGBM Dart"
   ]
  },
  {
   "cell_type": "code",
   "execution_count": 38,
   "id": "a78f85ff",
   "metadata": {
    "execution": {
     "iopub.execute_input": "2024-06-12T12:03:32.327031Z",
     "iopub.status.busy": "2024-06-12T12:03:32.326553Z",
     "iopub.status.idle": "2024-06-12T12:04:27.583995Z",
     "shell.execute_reply": "2024-06-12T12:04:27.582586Z"
    },
    "papermill": {
     "duration": 55.302062,
     "end_time": "2024-06-12T12:04:27.606135",
     "exception": false,
     "start_time": "2024-06-12T12:03:32.304073",
     "status": "completed"
    },
    "tags": []
   },
   "outputs": [
    {
     "name": "stdout",
     "output_type": "stream",
     "text": [
      "Val Score: 82.70833 ± 1.30922 | Train Score: 81.86917 ± 0.30024 | \n"
     ]
    }
   ],
   "source": [
    "dart_params = {'learning_rate': 0.09914137430412352, 'max_depth': 2, 'subsample': 0.9969294146161065, 'min_child_weight': 11.914829509929072, 'reg_lambda': 6.522351674703635, 'reg_alpha': 0.295532729556387}\n",
    "\n",
    "DART = make_pipeline(\n",
    "    pre,\n",
    "    MEstimateEncoder(cols = ['patient_state', 'payer_type', 'Region', 'breast_cancer_diagnosis_code', 'breast_cancer_diagnosis_desc', 'metastatic_cancer_diagnosis_code']),\n",
    "    FeatureSelector(cols = ['patient_age', 'breast_cancer_diagnosis_code', 'breast_cancer_diagnosis_desc', 'metastatic_cancer_diagnosis_code', 'Aug', 'Jul', 'Jun', 'disabled']),\n",
    "    LGBMRegressor(**dart_params, random_state = seed, n_estimators = 600, boosting_type = 'dart', verbose=-1)\n",
    ")\n",
    "\n",
    "_, oof_list['DART'], predict_list['DART'] = cross_val_score(DART, show_importance = False)"
   ]
  },
  {
   "cell_type": "markdown",
   "id": "e568ca82",
   "metadata": {
    "papermill": {
     "duration": 0.019895,
     "end_time": "2024-06-12T12:04:27.645299",
     "exception": false,
     "start_time": "2024-06-12T12:04:27.625404",
     "status": "completed"
    },
    "tags": []
   },
   "source": [
    "### CatBoost"
   ]
  },
  {
   "cell_type": "code",
   "execution_count": 39,
   "id": "dd5262a3",
   "metadata": {
    "execution": {
     "iopub.execute_input": "2024-06-12T12:04:27.687799Z",
     "iopub.status.busy": "2024-06-12T12:04:27.686284Z",
     "iopub.status.idle": "2024-06-12T12:04:27.698125Z",
     "shell.execute_reply": "2024-06-12T12:04:27.696781Z"
    },
    "papermill": {
     "duration": 0.036227,
     "end_time": "2024-06-12T12:04:27.701068",
     "exception": false,
     "start_time": "2024-06-12T12:04:27.664841",
     "status": "completed"
    },
    "tags": []
   },
   "outputs": [],
   "source": [
    "def cb_objective(trial):\n",
    "    params = {\n",
    "        'learning_rate': trial.suggest_float('learning_rate', 0.01, 0.05, log=True),  # Narrowed range\n",
    "        'depth': trial.suggest_int('depth', 3, 10),  # Narrowed range\n",
    "        'l2_leaf_reg': trial.suggest_float('l2_leaf_reg', 1, 10, log=True),  # Narrowed range\n",
    "        'random_seed': seed,\n",
    "        'verbose': False,\n",
    "        # 'task_type': 'GPU'  # Uncomment if you want to use GPU, which can speed up training\n",
    "    }\n",
    "    \n",
    "    cb_features = ['breast_cancer_diagnosis_code', 'patient_age', 'disabled',\n",
    "         'metastatic_cancer_diagnosis_code','icd_payer', 'icd_state']\n",
    "    cb_cat = ['breast_cancer_diagnosis_code',\n",
    "         'metastatic_cancer_diagnosis_code','icd_payer', 'icd_state']\n",
    "    \n",
    "    optuna_model = make_pipeline(\n",
    "        pre,\n",
    "        CatImputer,\n",
    "        FeatureSelector(cb_features),\n",
    "        CatBoostRegressor(**params, cat_features = cb_cat, bootstrap_type = 'Bernoulli', has_time=True)\n",
    "    )\n",
    "    \n",
    "    optuna_score, _, _ = cross_val_score(optuna_model)\n",
    "    \n",
    "    return np.mean(optuna_score)\n",
    "\n",
    "cb_study = optuna.create_study(direction = 'minimize')"
   ]
  },
  {
   "cell_type": "code",
   "execution_count": 40,
   "id": "2e9e1b4c",
   "metadata": {
    "execution": {
     "iopub.execute_input": "2024-06-12T12:04:27.744327Z",
     "iopub.status.busy": "2024-06-12T12:04:27.743784Z",
     "iopub.status.idle": "2024-06-12T12:04:27.749318Z",
     "shell.execute_reply": "2024-06-12T12:04:27.748085Z"
    },
    "papermill": {
     "duration": 0.029551,
     "end_time": "2024-06-12T12:04:27.751910",
     "exception": false,
     "start_time": "2024-06-12T12:04:27.722359",
     "status": "completed"
    },
    "tags": []
   },
   "outputs": [],
   "source": [
    "# cb_study.optimize(cb_objective, 20)\n",
    "# best_trial = cb_study.best_trial\n",
    "# cb_params = best_trial.params\n",
    "# print(cb_params)"
   ]
  },
  {
   "cell_type": "code",
   "execution_count": 41,
   "id": "42439b86",
   "metadata": {
    "execution": {
     "iopub.execute_input": "2024-06-12T12:04:27.795222Z",
     "iopub.status.busy": "2024-06-12T12:04:27.794696Z",
     "iopub.status.idle": "2024-06-12T12:06:25.822270Z",
     "shell.execute_reply": "2024-06-12T12:06:25.820668Z"
    },
    "papermill": {
     "duration": 118.07304,
     "end_time": "2024-06-12T12:06:25.845328",
     "exception": false,
     "start_time": "2024-06-12T12:04:27.772288",
     "status": "completed"
    },
    "tags": []
   },
   "outputs": [
    {
     "name": "stdout",
     "output_type": "stream",
     "text": [
      "Val Score: 81.84448 ± 1.04149 | Train Score: 77.67525 ± 0.34232 | \n"
     ]
    }
   ],
   "source": [
    "cb_features = ['type', 'binned_age', 'breast_cancer_diagnosis_code', 'icd_bmi', 'disabled',\n",
    "         'metastatic_cancer_diagnosis_code', 'breast_cancer_diagnosis_desc', 'icd_race', 'icd_payer', 'icd_state', 'patient_age']\n",
    "cb_cat = ['type', 'binned_age', 'breast_cancer_diagnosis_code', 'icd_bmi',\n",
    "         'metastatic_cancer_diagnosis_code', 'breast_cancer_diagnosis_desc', 'icd_race', 'icd_payer', 'icd_state']\n",
    "\n",
    "# cb_params = {'learning_rate': 0.010663586799405909, 'depth': 13, 'l2_leaf_reg': 0.20115722271299316} #81.97\n",
    "cb_params = {'learning_rate': 0.046712098817202376, 'depth': 6, 'l2_leaf_reg': 9.45594815653324}\n",
    "\n",
    "CB = make_pipeline(\n",
    "    pre,\n",
    "    CatImputer,\n",
    "    FeatureSelector(cols = cb_features),\n",
    "    CatBoostRegressor(random_state = seed, verbose = 0, cat_features = cb_cat)\n",
    ")\n",
    "\n",
    "_, oof_list['CB'], predict_list['CB'] = cross_val_score(CB)"
   ]
  },
  {
   "cell_type": "code",
   "execution_count": 42,
   "id": "b4f1579e",
   "metadata": {
    "execution": {
     "iopub.execute_input": "2024-06-12T12:06:25.886633Z",
     "iopub.status.busy": "2024-06-12T12:06:25.885380Z",
     "iopub.status.idle": "2024-06-12T12:06:58.677194Z",
     "shell.execute_reply": "2024-06-12T12:06:58.675612Z"
    },
    "papermill": {
     "duration": 32.818889,
     "end_time": "2024-06-12T12:06:58.683356",
     "exception": false,
     "start_time": "2024-06-12T12:06:25.864467",
     "status": "completed"
    },
    "tags": []
   },
   "outputs": [
    {
     "name": "stdout",
     "output_type": "stream",
     "text": [
      "Val Score: 82.61108 ± 0.85626 | Train Score: 77.92157 ± 0.35021 | \n"
     ]
    }
   ],
   "source": [
    "cb_time_features = ['payer_type', 'patient_age', 'breast_cancer_diagnosis_code', 'metastatic_cancer_diagnosis_code', 'income_household_35_to_50']\n",
    "cb_time_cat = ['payer_type', 'breast_cancer_diagnosis_code', 'metastatic_cancer_diagnosis_code']\n",
    "\n",
    "cb_time_params = {'learning_rate': 0.048326724219233175, 'depth': 3, 'subsample': 0.8589378552114382, 'l2_leaf_reg': 1.7000522641901692}\n",
    "\n",
    "CB_Time = make_pipeline(\n",
    "    CatImputer,\n",
    "    FeatureSelector(cols = cb_time_features),\n",
    "    CatBoostRegressor(random_state = seed, verbose = 0, cat_features = cb_time_cat, has_time = True)\n",
    ")\n",
    "\n",
    "_, oof_list['CB_Time'], predict_list['CB_Time'] = cross_val_score(CB_Time)"
   ]
  },
  {
   "cell_type": "markdown",
   "id": "ab4b1eea",
   "metadata": {
    "papermill": {
     "duration": 0.019161,
     "end_time": "2024-06-12T12:06:58.721947",
     "exception": false,
     "start_time": "2024-06-12T12:06:58.702786",
     "status": "completed"
    },
    "tags": []
   },
   "source": [
    "### CB Bayesian"
   ]
  },
  {
   "cell_type": "code",
   "execution_count": 43,
   "id": "eaed55eb",
   "metadata": {
    "execution": {
     "iopub.execute_input": "2024-06-12T12:06:58.764769Z",
     "iopub.status.busy": "2024-06-12T12:06:58.764285Z",
     "iopub.status.idle": "2024-06-12T12:08:25.152362Z",
     "shell.execute_reply": "2024-06-12T12:08:25.150912Z"
    },
    "papermill": {
     "duration": 86.432706,
     "end_time": "2024-06-12T12:08:25.174809",
     "exception": false,
     "start_time": "2024-06-12T12:06:58.742103",
     "status": "completed"
    },
    "tags": []
   },
   "outputs": [
    {
     "name": "stdout",
     "output_type": "stream",
     "text": [
      "Val Score: 82.04505 ± 0.98981 | Train Score: 77.04353 ± 0.34248 | \n"
     ]
    }
   ],
   "source": [
    "cb_bayes_features = ['breast_cancer_diagnosis_code', 'icd_bmi', 'patient_age', 'disabled',\n",
    "         'metastatic_cancer_diagnosis_code','icd_payer', 'icd_state']\n",
    "cb_bayes_cat = ['breast_cancer_diagnosis_code', 'icd_bmi',\n",
    "         'metastatic_cancer_diagnosis_code','icd_payer', 'icd_state']\n",
    "\n",
    "cb_bayes_params = {'learning_rate': 0.03874261097700202, 'depth': 4, 'l2_leaf_reg': 7.189026716451241}\n",
    "\n",
    "CB_Bayes = make_pipeline(\n",
    "    pre,\n",
    "    CatImputer,\n",
    "    FeatureSelector(cols = cb_bayes_features),\n",
    "    CatBoostRegressor(random_state = seed, verbose = 0, bootstrap_type = 'Bayesian', cat_features = cb_bayes_cat)\n",
    ")\n",
    "\n",
    "_, oof_list['CB_Bayes'], predict_list['CB_Bayes'] = cross_val_score(CB_Bayes)"
   ]
  },
  {
   "cell_type": "code",
   "execution_count": 44,
   "id": "0705dfd4",
   "metadata": {
    "execution": {
     "iopub.execute_input": "2024-06-12T12:08:25.216341Z",
     "iopub.status.busy": "2024-06-12T12:08:25.215792Z",
     "iopub.status.idle": "2024-06-12T12:08:57.695998Z",
     "shell.execute_reply": "2024-06-12T12:08:57.694738Z"
    },
    "papermill": {
     "duration": 32.523089,
     "end_time": "2024-06-12T12:08:57.717448",
     "exception": false,
     "start_time": "2024-06-12T12:08:25.194359",
     "status": "completed"
    },
    "tags": []
   },
   "outputs": [
    {
     "name": "stdout",
     "output_type": "stream",
     "text": [
      "Val Score: 82.84335 ± 0.90297 | Train Score: 75.64861 ± 0.29003 | \n"
     ]
    }
   ],
   "source": [
    "cb_bayes_time_features = ['payer_type', 'patient_age', 'breast_cancer_diagnosis_code', 'metastatic_cancer_diagnosis_code', 'income_household_50_to_75', 'health_uninsured']\n",
    "cb_bayes_time_cat = ['payer_type', 'breast_cancer_diagnosis_code', 'metastatic_cancer_diagnosis_code']\n",
    "\n",
    "CB_Bayes_Time = make_pipeline(\n",
    "    CatImputer,\n",
    "    FeatureSelector(cols = cb_bayes_time_features),\n",
    "    CatBoostRegressor(random_state = seed, verbose = 0, bootstrap_type = 'Bayesian', cat_features = cb_bayes_time_cat, has_time = True)\n",
    ")\n",
    "\n",
    "_, oof_list['CB_Bayes_Time'], predict_list['CB_Bayes_Time'] = cross_val_score(CB_Bayes_Time)"
   ]
  },
  {
   "cell_type": "markdown",
   "id": "f3489a3b",
   "metadata": {
    "papermill": {
     "duration": 0.019628,
     "end_time": "2024-06-12T12:08:57.756572",
     "exception": false,
     "start_time": "2024-06-12T12:08:57.736944",
     "status": "completed"
    },
    "tags": []
   },
   "source": [
    "### CB Bernoulli"
   ]
  },
  {
   "cell_type": "code",
   "execution_count": 45,
   "id": "632aeb63",
   "metadata": {
    "execution": {
     "iopub.execute_input": "2024-06-12T12:08:57.799209Z",
     "iopub.status.busy": "2024-06-12T12:08:57.797943Z",
     "iopub.status.idle": "2024-06-12T12:10:16.455717Z",
     "shell.execute_reply": "2024-06-12T12:10:16.454311Z"
    },
    "papermill": {
     "duration": 78.704558,
     "end_time": "2024-06-12T12:10:16.480696",
     "exception": false,
     "start_time": "2024-06-12T12:08:57.776138",
     "status": "completed"
    },
    "tags": []
   },
   "outputs": [
    {
     "name": "stdout",
     "output_type": "stream",
     "text": [
      "Val Score: 82.03377 ± 0.97541 | Train Score: 76.66338 ± 0.35664 | \n"
     ]
    }
   ],
   "source": [
    "cb_bernoulli_features = ['breast_cancer_diagnosis_code', 'icd_bmi', 'patient_age', 'disabled',\n",
    "         'metastatic_cancer_diagnosis_code','icd_payer', 'icd_state']\n",
    "cb_bernoulli_cat = ['breast_cancer_diagnosis_code', 'icd_bmi',\n",
    "         'metastatic_cancer_diagnosis_code','icd_payer', 'icd_state']\n",
    "\n",
    "cb_bernoulli_params = {'learning_rate': 0.03874261097700202, 'depth': 4, 'l2_leaf_reg': 7.189026716451241}\n",
    "\n",
    "CB_Bernoulli = make_pipeline(\n",
    "    pre,\n",
    "    CatImputer,\n",
    "    FeatureSelector(cols = cb_bernoulli_features),\n",
    "    CatBoostRegressor(random_state = seed, verbose = 0, bootstrap_type = 'Bernoulli', cat_features = cb_bernoulli_cat)\n",
    ")\n",
    "\n",
    "_, oof_list['CB_Bernoulli'], predict_list['CB_Bernoulli'] = cross_val_score(CB_Bernoulli)"
   ]
  },
  {
   "cell_type": "code",
   "execution_count": 46,
   "id": "de55fe15",
   "metadata": {
    "execution": {
     "iopub.execute_input": "2024-06-12T12:10:16.523186Z",
     "iopub.status.busy": "2024-06-12T12:10:16.522695Z",
     "iopub.status.idle": "2024-06-12T12:11:10.424881Z",
     "shell.execute_reply": "2024-06-12T12:11:10.423359Z"
    },
    "papermill": {
     "duration": 53.952059,
     "end_time": "2024-06-12T12:11:10.452796",
     "exception": false,
     "start_time": "2024-06-12T12:10:16.500737",
     "status": "completed"
    },
    "tags": []
   },
   "outputs": [
    {
     "name": "stdout",
     "output_type": "stream",
     "text": [
      "Val Score: 81.99694 ± 1.14993 | Train Score: 79.53623 ± 0.25388 | \n"
     ]
    }
   ],
   "source": [
    "cb_bernoulli_time_features = ['patient_race', 'payer_type', 'patient_state', 'patient_age', 'breast_cancer_diagnosis_code', 'metastatic_cancer_diagnosis_code', 'Jun', 'Jul', 'unemployment_rate', 'self_employed']\n",
    "cb_bernoulli_time_cat = ['patient_race', 'payer_type', 'patient_state', 'breast_cancer_diagnosis_code', 'metastatic_cancer_diagnosis_code']\n",
    "\n",
    "cb_bernoulli_time_params = {'learning_rate': 0.048326724219233175, 'depth': 3, 'subsample': 0.8589378552114382, 'l2_leaf_reg': 1.7000522641901692}\n",
    "\n",
    "CB_Bernoulli_Time = make_pipeline(\n",
    "    pre,\n",
    "    CatImputer,\n",
    "    FeatureSelector(cols = cb_bernoulli_time_features),\n",
    "    CatBoostRegressor(**cb_bernoulli_time_params, random_state = seed, verbose = 0, bootstrap_type = 'Bernoulli', cat_features = cb_bernoulli_time_cat, has_time = True)\n",
    ")\n",
    "\n",
    "_, oof_list['CB_Bernoulli_Time'], predict_list['CB_Bernoulli_Time'] = cross_val_score(CB_Bernoulli_Time)"
   ]
  },
  {
   "cell_type": "markdown",
   "id": "ae249566",
   "metadata": {
    "papermill": {
     "duration": 0.027266,
     "end_time": "2024-06-12T12:11:10.503954",
     "exception": false,
     "start_time": "2024-06-12T12:11:10.476688",
     "status": "completed"
    },
    "tags": []
   },
   "source": [
    "## Ensemble"
   ]
  },
  {
   "cell_type": "code",
   "execution_count": 47,
   "id": "64631c63",
   "metadata": {
    "execution": {
     "iopub.execute_input": "2024-06-12T12:11:10.554419Z",
     "iopub.status.busy": "2024-06-12T12:11:10.552938Z",
     "iopub.status.idle": "2024-06-12T12:11:10.561308Z",
     "shell.execute_reply": "2024-06-12T12:11:10.559983Z"
    },
    "papermill": {
     "duration": 0.033977,
     "end_time": "2024-06-12T12:11:10.563885",
     "exception": false,
     "start_time": "2024-06-12T12:11:10.529908",
     "status": "completed"
    },
    "tags": []
   },
   "outputs": [],
   "source": [
    "def multiplier_objective(trial):\n",
    "    \n",
    "    multipliers = np.array([trial.suggest_float(f'{label}', -1, 1) for label in list(oof_list)])\n",
    "    \n",
    "    return rmse(train.target, oof_list.to_numpy() @ (multipliers / multipliers.sum()))\n",
    "\n",
    "multiplier_study = optuna.create_study(direction = 'minimize')"
   ]
  },
  {
   "cell_type": "code",
   "execution_count": 48,
   "id": "f6f24cca",
   "metadata": {
    "execution": {
     "iopub.execute_input": "2024-06-12T12:11:10.606436Z",
     "iopub.status.busy": "2024-06-12T12:11:10.605944Z",
     "iopub.status.idle": "2024-06-12T12:11:10.612354Z",
     "shell.execute_reply": "2024-06-12T12:11:10.610989Z"
    },
    "papermill": {
     "duration": 0.030831,
     "end_time": "2024-06-12T12:11:10.615010",
     "exception": false,
     "start_time": "2024-06-12T12:11:10.584179",
     "status": "completed"
    },
    "tags": []
   },
   "outputs": [],
   "source": [
    "optuna.logging.set_verbosity(optuna.logging.WARNING)"
   ]
  },
  {
   "cell_type": "code",
   "execution_count": 49,
   "id": "4af2c14b",
   "metadata": {
    "execution": {
     "iopub.execute_input": "2024-06-12T12:11:10.659691Z",
     "iopub.status.busy": "2024-06-12T12:11:10.659123Z",
     "iopub.status.idle": "2024-06-12T12:28:52.077355Z",
     "shell.execute_reply": "2024-06-12T12:28:52.065635Z"
    },
    "papermill": {
     "duration": 1061.462403,
     "end_time": "2024-06-12T12:28:52.099194",
     "exception": false,
     "start_time": "2024-06-12T12:11:10.636791",
     "status": "completed"
    },
    "tags": []
   },
   "outputs": [
    {
     "name": "stdout",
     "output_type": "stream",
     "text": [
      "[81.50187376325741]\n"
     ]
    }
   ],
   "source": [
    "multiplier_study.optimize(multiplier_objective, 3000)\n",
    "best_trial = multiplier_study.best_trial\n",
    "print(best_trial.values)\n",
    "best_params = best_trial.params"
   ]
  },
  {
   "cell_type": "code",
   "execution_count": 50,
   "id": "a36a6e97",
   "metadata": {
    "execution": {
     "iopub.execute_input": "2024-06-12T12:28:52.171176Z",
     "iopub.status.busy": "2024-06-12T12:28:52.170259Z",
     "iopub.status.idle": "2024-06-12T12:28:52.186158Z",
     "shell.execute_reply": "2024-06-12T12:28:52.184857Z"
    },
    "papermill": {
     "duration": 0.055774,
     "end_time": "2024-06-12T12:28:52.188635",
     "exception": false,
     "start_time": "2024-06-12T12:28:52.132861",
     "status": "completed"
    },
    "tags": []
   },
   "outputs": [
    {
     "data": {
      "text/html": [
       "<div>\n",
       "<style scoped>\n",
       "    .dataframe tbody tr th:only-of-type {\n",
       "        vertical-align: middle;\n",
       "    }\n",
       "\n",
       "    .dataframe tbody tr th {\n",
       "        vertical-align: top;\n",
       "    }\n",
       "\n",
       "    .dataframe thead th {\n",
       "        text-align: right;\n",
       "    }\n",
       "</style>\n",
       "<table border=\"1\" class=\"dataframe\">\n",
       "  <thead>\n",
       "    <tr style=\"text-align: right;\">\n",
       "      <th></th>\n",
       "      <th>weight per model</th>\n",
       "    </tr>\n",
       "  </thead>\n",
       "  <tbody>\n",
       "    <tr>\n",
       "      <th>Ridge</th>\n",
       "      <td>-0.184992</td>\n",
       "    </tr>\n",
       "    <tr>\n",
       "      <th>KNN</th>\n",
       "      <td>0.082886</td>\n",
       "    </tr>\n",
       "    <tr>\n",
       "      <th>RF</th>\n",
       "      <td>0.248375</td>\n",
       "    </tr>\n",
       "    <tr>\n",
       "      <th>ET</th>\n",
       "      <td>-0.061361</td>\n",
       "    </tr>\n",
       "    <tr>\n",
       "      <th>GB</th>\n",
       "      <td>0.089385</td>\n",
       "    </tr>\n",
       "    <tr>\n",
       "      <th>HGB</th>\n",
       "      <td>0.236597</td>\n",
       "    </tr>\n",
       "    <tr>\n",
       "      <th>XGB</th>\n",
       "      <td>0.124848</td>\n",
       "    </tr>\n",
       "    <tr>\n",
       "      <th>LGB</th>\n",
       "      <td>-0.018239</td>\n",
       "    </tr>\n",
       "    <tr>\n",
       "      <th>DART</th>\n",
       "      <td>-0.277522</td>\n",
       "    </tr>\n",
       "    <tr>\n",
       "      <th>CB</th>\n",
       "      <td>0.221893</td>\n",
       "    </tr>\n",
       "    <tr>\n",
       "      <th>CB_Time</th>\n",
       "      <td>0.099820</td>\n",
       "    </tr>\n",
       "    <tr>\n",
       "      <th>CB_Bayes</th>\n",
       "      <td>0.091172</td>\n",
       "    </tr>\n",
       "    <tr>\n",
       "      <th>CB_Bayes_Time</th>\n",
       "      <td>-0.003911</td>\n",
       "    </tr>\n",
       "    <tr>\n",
       "      <th>CB_Bernoulli</th>\n",
       "      <td>0.083071</td>\n",
       "    </tr>\n",
       "    <tr>\n",
       "      <th>CB_Bernoulli_Time</th>\n",
       "      <td>0.267979</td>\n",
       "    </tr>\n",
       "  </tbody>\n",
       "</table>\n",
       "</div>"
      ],
      "text/plain": [
       "                   weight per model\n",
       "Ridge                     -0.184992\n",
       "KNN                        0.082886\n",
       "RF                         0.248375\n",
       "ET                        -0.061361\n",
       "GB                         0.089385\n",
       "HGB                        0.236597\n",
       "XGB                        0.124848\n",
       "LGB                       -0.018239\n",
       "DART                      -0.277522\n",
       "CB                         0.221893\n",
       "CB_Time                    0.099820\n",
       "CB_Bayes                   0.091172\n",
       "CB_Bayes_Time             -0.003911\n",
       "CB_Bernoulli               0.083071\n",
       "CB_Bernoulli_Time          0.267979"
      ]
     },
     "execution_count": 50,
     "metadata": {},
     "output_type": "execute_result"
    }
   ],
   "source": [
    "#selected_model = [col] + ['CB_Bernoulli_Time', 'CB_Bernoulli', 'Log', 'TF', 'ET', 'SVM', 'CB', 'RF', 'LGB', 'KNN', 'CB_Time', 'CB_Bayes_Time', 'CB_Bayes', 'GNB', 'BNB', 'LDA', 'XGB', 'GB']\n",
    "#weights = RidgeClassifier(random_state = seed).fit(oof_list, train.DiagPeriodL90D).coef_[0]\n",
    "#weights = np.array(list(multiplier_study.best_params.values()))\n",
    "weights = np.array(list(best_params.values()))\n",
    "weights /= weights.sum()\n",
    "pd.DataFrame(weights, index = list(oof_list), columns = ['weight per model'])"
   ]
  },
  {
   "cell_type": "code",
   "execution_count": 51,
   "id": "b2990731",
   "metadata": {
    "execution": {
     "iopub.execute_input": "2024-06-12T12:28:52.231508Z",
     "iopub.status.busy": "2024-06-12T12:28:52.230985Z",
     "iopub.status.idle": "2024-06-12T12:28:52.242128Z",
     "shell.execute_reply": "2024-06-12T12:28:52.240710Z"
    },
    "papermill": {
     "duration": 0.040693,
     "end_time": "2024-06-12T12:28:52.250327",
     "exception": false,
     "start_time": "2024-06-12T12:28:52.209634",
     "status": "completed"
    },
    "tags": []
   },
   "outputs": [
    {
     "name": "stdout",
     "output_type": "stream",
     "text": [
      "Score: 81.50187376325741\n"
     ]
    }
   ],
   "source": [
    "print(f'Score: {rmse(train.target, oof_list.to_numpy() @ weights)}')\n",
    "predictions = predict_list.to_numpy() @ weights"
   ]
  },
  {
   "cell_type": "code",
   "execution_count": 52,
   "id": "2b284674",
   "metadata": {
    "execution": {
     "iopub.execute_input": "2024-06-12T12:28:52.323167Z",
     "iopub.status.busy": "2024-06-12T12:28:52.322300Z",
     "iopub.status.idle": "2024-06-12T12:28:52.377064Z",
     "shell.execute_reply": "2024-06-12T12:28:52.375620Z"
    },
    "papermill": {
     "duration": 0.093698,
     "end_time": "2024-06-12T12:28:52.379783",
     "exception": false,
     "start_time": "2024-06-12T12:28:52.286085",
     "status": "completed"
    },
    "tags": []
   },
   "outputs": [
    {
     "data": {
      "text/html": [
       "<div>\n",
       "<style scoped>\n",
       "    .dataframe tbody tr th:only-of-type {\n",
       "        vertical-align: middle;\n",
       "    }\n",
       "\n",
       "    .dataframe tbody tr th {\n",
       "        vertical-align: top;\n",
       "    }\n",
       "\n",
       "    .dataframe thead th {\n",
       "        text-align: right;\n",
       "    }\n",
       "</style>\n",
       "<table border=\"1\" class=\"dataframe\">\n",
       "  <thead>\n",
       "    <tr style=\"text-align: right;\">\n",
       "      <th></th>\n",
       "      <th>patient_id</th>\n",
       "      <th>metastatic_diagnosis_period</th>\n",
       "    </tr>\n",
       "  </thead>\n",
       "  <tbody>\n",
       "    <tr>\n",
       "      <th>0</th>\n",
       "      <td>730681</td>\n",
       "      <td>198.967950</td>\n",
       "    </tr>\n",
       "    <tr>\n",
       "      <th>1</th>\n",
       "      <td>334212</td>\n",
       "      <td>64.074388</td>\n",
       "    </tr>\n",
       "    <tr>\n",
       "      <th>2</th>\n",
       "      <td>571362</td>\n",
       "      <td>193.976048</td>\n",
       "    </tr>\n",
       "    <tr>\n",
       "      <th>3</th>\n",
       "      <td>907331</td>\n",
       "      <td>208.673148</td>\n",
       "    </tr>\n",
       "    <tr>\n",
       "      <th>4</th>\n",
       "      <td>208382</td>\n",
       "      <td>41.952541</td>\n",
       "    </tr>\n",
       "  </tbody>\n",
       "</table>\n",
       "</div>"
      ],
      "text/plain": [
       "   patient_id  metastatic_diagnosis_period\n",
       "0      730681                   198.967950\n",
       "1      334212                    64.074388\n",
       "2      571362                   193.976048\n",
       "3      907331                   208.673148\n",
       "4      208382                    41.952541"
      ]
     },
     "execution_count": 52,
     "metadata": {},
     "output_type": "execute_result"
    }
   ],
   "source": [
    "submission = pd.read_csv('/kaggle/input/widsdatathon2024-challenge2/solution_template.csv')\n",
    "submission['metastatic_diagnosis_period'] = np.clip(predictions, a_min=0, a_max=np.inf)\n",
    "submission.to_csv('submission.csv', index=False)\n",
    "submission.head()"
   ]
  },
  {
   "cell_type": "code",
   "execution_count": null,
   "id": "e2c4b449",
   "metadata": {
    "papermill": {
     "duration": 0.020242,
     "end_time": "2024-06-12T12:28:52.420213",
     "exception": false,
     "start_time": "2024-06-12T12:28:52.399971",
     "status": "completed"
    },
    "tags": []
   },
   "outputs": [],
   "source": []
  }
 ],
 "metadata": {
  "kaggle": {
   "accelerator": "none",
   "dataSources": [
    {
     "databundleVersionId": 8121780,
     "sourceId": 73478,
     "sourceType": "competition"
    }
   ],
   "dockerImageVersionId": 30732,
   "isGpuEnabled": false,
   "isInternetEnabled": true,
   "language": "python",
   "sourceType": "notebook"
  },
  "kernelspec": {
   "display_name": "Python 3",
   "language": "python",
   "name": "python3"
  },
  "language_info": {
   "codemirror_mode": {
    "name": "ipython",
    "version": 3
   },
   "file_extension": ".py",
   "mimetype": "text/x-python",
   "name": "python",
   "nbconvert_exporter": "python",
   "pygments_lexer": "ipython3",
   "version": "3.10.13"
  },
  "papermill": {
   "default_parameters": {},
   "duration": 1944.491111,
   "end_time": "2024-06-12T12:28:55.330162",
   "environment_variables": {},
   "exception": null,
   "input_path": "__notebook__.ipynb",
   "output_path": "__notebook__.ipynb",
   "parameters": {},
   "start_time": "2024-06-12T11:56:30.839051",
   "version": "2.5.0"
  }
 },
 "nbformat": 4,
 "nbformat_minor": 5
}
